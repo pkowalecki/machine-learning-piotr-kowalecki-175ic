{
  "nbformat": 4,
  "nbformat_minor": 0,
  "metadata": {
    "colab": {
      "name": "W4.ipynb",
      "provenance": [],
      "collapsed_sections": [],
      "authorship_tag": "ABX9TyP0wMsPE+c3VAjx7+YqsZCe",
      "include_colab_link": true
    },
    "kernelspec": {
      "name": "python3",
      "display_name": "Python 3"
    }
  },
  "cells": [
    {
      "cell_type": "markdown",
      "metadata": {
        "id": "view-in-github",
        "colab_type": "text"
      },
      "source": [
        "<a href=\"https://colab.research.google.com/github/pkowalecki/machine-learning-piotr-kowalecki-175ic/blob/main/W4/W4.ipynb\" target=\"_parent\"><img src=\"https://colab.research.google.com/assets/colab-badge.svg\" alt=\"Open In Colab\"/></a>"
      ]
    },
    {
      "cell_type": "code",
      "metadata": {
        "id": "KFd0cmma-Yc5"
      },
      "source": [
        "from bs4 import BeautifulSoup\n",
        "from openpyxl import load_workbook, Workbook\n",
        "import requests\n",
        "import string\n",
        "import random"
      ],
      "execution_count": 2,
      "outputs": []
    },
    {
      "cell_type": "code",
      "metadata": {
        "id": "HA2MIkQdTsEr",
        "colab": {
          "base_uri": "https://localhost:8080/"
        },
        "outputId": "18b35698-4dee-41f4-c875-3cb3d922bf21"
      },
      "source": [
        "#Tworzenie arkusza oraz losowanie skrótów, które znajduą się na stooq\n",
        "wb = Workbook()\n",
        "dest_filename = 'kowalecki-175IC.xlsx'\n",
        "workSheetGielda = wb.create_sheet(title=\"Giełda\")\n",
        "workSheetLinki = wb.create_sheet(title=\"Linki\")\n",
        "workSheetFilmweb = wb.create_sheet(title=\"Filmweb\")\n",
        "wb.active\n",
        "workSheetGielda['A1'] = 'Kod'  \n",
        "workSheetGielda['B1'] = 'Kursy' \n",
        "workSheetGielda['C1'] = 'Zmiana'  \n",
        "workSheetGielda['D1'] = 'Transakcje'\n",
        "\n",
        "match = []\n",
        "url = \"https://stooq.pl/q/?s=\"\n",
        "while len(match)<=4:\n",
        "  kody = ''.join([random.choice(string.ascii_lowercase) for _ in range(3)])\n",
        "  request = requests.get(url+kody)\n",
        "  soup = BeautifulSoup(request.text, \"html.parser\")\n",
        "  if \"nie istnieje\" not in soup.get_text():\n",
        "    match.append(kody)\n",
        "    \n",
        "for x in range(len(match)):\n",
        "  print(match[x])\n"
      ],
      "execution_count": 343,
      "outputs": [
        {
          "output_type": "stream",
          "text": [
            "msw\n",
            "aas\n",
            "thd\n",
            "prl\n",
            "ulg\n"
          ],
          "name": "stdout"
        }
      ]
    },
    {
      "cell_type": "code",
      "metadata": {
        "colab": {
          "base_uri": "https://localhost:8080/",
          "height": 246
        },
        "id": "NCG-RPelLzfb",
        "outputId": "ea3e9d1f-b83d-4f24-e0e1-8f82d142f9c2"
      },
      "source": [
        "print(f\"Zapis danych dla: {match[4]}\")\n",
        "workSheetGielda[\"A2\"] = match[4]\n",
        "kurs = soup.find(\"span\", id=f\"aq_{match[4]}_c2\")\n",
        "kurs_out = float(kurs.text)\n",
        "workSheetGielda[\"B2\"] = kurs_out\n",
        "zmiana = soup.find(\"span\", id=f\"aq_{match[4]}_m3\")\n",
        "zmiana_out = zmiana.text\n",
        "workSheetGielda[\"C2\"] = zmiana_out\n",
        "#Z jakiegoś powodu to nie działa \n",
        "transakcje = soup.find(text=\"Transakcje\").next_element.next_element\n",
        "transakcje_out = int(transakcje.text.replace(\" \", \"\"))\n",
        "workSheetGielda[\"D2\"] = transakcje_out\n",
        "\n",
        "#Zapis do dokumentu excel\n",
        "wb.save(dest_filename)"
      ],
      "execution_count": 389,
      "outputs": [
        {
          "output_type": "stream",
          "text": [
            "Zapis danych dla: ulg\n"
          ],
          "name": "stdout"
        },
        {
          "output_type": "error",
          "ename": "AttributeError",
          "evalue": "ignored",
          "traceback": [
            "\u001b[0;31m---------------------------------------------------------------------------\u001b[0m",
            "\u001b[0;31mAttributeError\u001b[0m                            Traceback (most recent call last)",
            "\u001b[0;32m<ipython-input-389-4bfb4febabd8>\u001b[0m in \u001b[0;36m<module>\u001b[0;34m()\u001b[0m\n\u001b[1;32m      8\u001b[0m \u001b[0mworkSheetGielda\u001b[0m\u001b[0;34m[\u001b[0m\u001b[0;34m\"C2\"\u001b[0m\u001b[0;34m]\u001b[0m \u001b[0;34m=\u001b[0m \u001b[0mzmiana_out\u001b[0m\u001b[0;34m\u001b[0m\u001b[0;34m\u001b[0m\u001b[0m\n\u001b[1;32m      9\u001b[0m \u001b[0;31m#Z jakiegoś powodu to nie działa\u001b[0m\u001b[0;34m\u001b[0m\u001b[0;34m\u001b[0m\u001b[0;34m\u001b[0m\u001b[0m\n\u001b[0;32m---> 10\u001b[0;31m \u001b[0mtransakcje\u001b[0m \u001b[0;34m=\u001b[0m \u001b[0msoup\u001b[0m\u001b[0;34m.\u001b[0m\u001b[0mfind\u001b[0m\u001b[0;34m(\u001b[0m\u001b[0mtext\u001b[0m\u001b[0;34m=\u001b[0m\u001b[0;34m\"Transakcje\"\u001b[0m\u001b[0;34m)\u001b[0m\u001b[0;34m.\u001b[0m\u001b[0mnext_element\u001b[0m\u001b[0;34m.\u001b[0m\u001b[0mnext_element\u001b[0m\u001b[0;34m\u001b[0m\u001b[0;34m\u001b[0m\u001b[0m\n\u001b[0m\u001b[1;32m     11\u001b[0m \u001b[0mtransakcje_out\u001b[0m \u001b[0;34m=\u001b[0m \u001b[0mint\u001b[0m\u001b[0;34m(\u001b[0m\u001b[0mtransakcje\u001b[0m\u001b[0;34m.\u001b[0m\u001b[0mtext\u001b[0m\u001b[0;34m.\u001b[0m\u001b[0mreplace\u001b[0m\u001b[0;34m(\u001b[0m\u001b[0;34m\" \"\u001b[0m\u001b[0;34m,\u001b[0m \u001b[0;34m\"\"\u001b[0m\u001b[0;34m)\u001b[0m\u001b[0;34m)\u001b[0m\u001b[0;34m\u001b[0m\u001b[0;34m\u001b[0m\u001b[0m\n\u001b[1;32m     12\u001b[0m \u001b[0mworkSheetGielda\u001b[0m\u001b[0;34m[\u001b[0m\u001b[0;34m\"D2\"\u001b[0m\u001b[0;34m]\u001b[0m \u001b[0;34m=\u001b[0m \u001b[0mtransakcje_out\u001b[0m\u001b[0;34m\u001b[0m\u001b[0;34m\u001b[0m\u001b[0m\n",
            "\u001b[0;31mAttributeError\u001b[0m: 'NoneType' object has no attribute 'next_element'"
          ]
        }
      ]
    },
    {
      "cell_type": "code",
      "metadata": {
        "id": "s5P5ekIXqm0u"
      },
      "source": [
        "#dla wybranej strony internetowej napisz kod, który połączy się ze stroną, \n",
        "#znajdzie wszystkie linki (co najmniej 10) na stronie (znacznik ‘a’ posiadający atrybut ‘href’), \n",
        "#a następnie zapisze je do arkusza ‘Linki’\n",
        "url = \"https://zacniewski.gitlab.io\"\n",
        "request = requests.get(url)\n",
        "soup = BeautifulSoup(request.text, \"html.parser\")\n",
        "\n",
        "r = 1\n",
        "for a in soup.find_all('a', href=True):\n",
        "  workSheetLinki.cell(row=r, column=1).hyperlink = a['href']\n",
        "  r = r + 1\n",
        "wb.save(dest_filename)"
      ],
      "execution_count": 393,
      "outputs": []
    },
    {
      "cell_type": "code",
      "metadata": {
        "id": "nKNfTINmKIHB"
      },
      "source": [
        "#dla ustalonego linku do filmu na Filmwebie, np. tego, napisz kod, który zwróci:\n",
        "#reżysera,\n",
        "#datę premiery,\n",
        "#boxoffice,\n",
        "#ocenę filmu.\n",
        "#zapisz uzyskane wyniki do arkusza ‘Filmweb’\n",
        "\n",
        "url = \"https://www.filmweb.pl/film/To%3A+Rozdział+2-2019-793838\"\n",
        "request = requests.get(url)\n",
        "soup = BeautifulSoup(request.text,\"html.parser\")\n",
        "\n",
        "workSheetFilmweb['A1'] = 'Reżyser'\n",
        "workSheetFilmweb['A2'] = 'Data Premiery'\n",
        "workSheetFilmweb['A3'] = 'BoxOffice'\n",
        "workSheetFilmweb['A4'] = 'Ocena filmu'\n",
        "\n",
        "rezyser = soup.find(itemprop=\"director\").text\n",
        "workSheetFilmweb['B1'] = rezyser\n",
        "data_premiery = soup.find(\"span\", {\"class\": \"block\"}).text\n",
        "workSheetFilmweb['B2'] = data_premiery\n",
        "boxoffice = soup.find('div', attrs={'class':'boxoffice'}).previous_element\n",
        "workSheetFilmweb['B3'] = boxoffice\n",
        "ocena = soup.find('span', attrs={'class':'filmRating__rateValue'}).text\n",
        "workSheetFilmweb['B4'] = ocena\n",
        "wb.save(dest_filename)"
      ],
      "execution_count": 403,
      "outputs": []
    }
  ]
}