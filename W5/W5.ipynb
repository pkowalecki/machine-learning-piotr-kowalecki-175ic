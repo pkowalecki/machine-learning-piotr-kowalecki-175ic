{
  "nbformat": 4,
  "nbformat_minor": 0,
  "metadata": {
    "colab": {
      "name": "W5.ipynb",
      "provenance": [],
      "collapsed_sections": [],
      "authorship_tag": "ABX9TyMcNcb14rQIflZYzsKx2Is8",
      "include_colab_link": true
    },
    "kernelspec": {
      "name": "python3",
      "display_name": "Python 3"
    }
  },
  "cells": [
    {
      "cell_type": "markdown",
      "metadata": {
        "id": "view-in-github",
        "colab_type": "text"
      },
      "source": [
        "<a href=\"https://colab.research.google.com/github/pkowalecki/machine-learning-piotr-kowalecki-175ic/blob/main/W5/W5.ipynb\" target=\"_parent\"><img src=\"https://colab.research.google.com/assets/colab-badge.svg\" alt=\"Open In Colab\"/></a>"
      ]
    },
    {
      "cell_type": "code",
      "metadata": {
        "id": "1Vo20CDfNGl2"
      },
      "source": [
        "!pip install spacy --upgrade\n",
        "!spacy download pl_core_news_sm\n",
        "!pip install textacy --upgrade"
      ],
      "execution_count": null,
      "outputs": []
    },
    {
      "cell_type": "code",
      "metadata": {
        "id": "tZfRq8AdG1rJ"
      },
      "source": [
        "import spacy\n",
        "import pl_core_news_sm\n",
        "import re\n",
        "from spacy.tokenizer import Tokenizer\n",
        "from collections import Counter\n",
        "from spacy import displacy\n",
        "from spacy.matcher import Matcher\n",
        "import textacy\n",
        "import warnings\n",
        "\n",
        "warnings.filterwarnings(\"ignore\")\n",
        "\n",
        "nlp = pl_core_news_sm.load()"
      ],
      "execution_count": 8,
      "outputs": []
    },
    {
      "cell_type": "code",
      "metadata": {
        "colab": {
          "base_uri": "https://localhost:8080/"
        },
        "id": "nCCn5KmJWFEe",
        "outputId": "f892ab3c-fff6-4f1d-f838-ea507ddbd085"
      },
      "source": [
        "#Czytanie wpisanego tekstu\n",
        "lorem_text = ('Lorem ipsum dolor sit amet, consectetur adipiscing elit.')\n",
        "lorem_doc = nlp(lorem_text)\n",
        "print([token.text for token in lorem_doc])"
      ],
      "execution_count": 9,
      "outputs": [
        {
          "output_type": "stream",
          "text": [
            "['Lorem', 'ipsum', 'dolor', 'sit', 'amet', ',', 'consectetur', 'adipiscing', 'elit', '.']\n"
          ],
          "name": "stdout"
        }
      ]
    },
    {
      "cell_type": "code",
      "metadata": {
        "colab": {
          "base_uri": "https://localhost:8080/"
        },
        "id": "M8iyPHiaWz0M",
        "outputId": "309545c2-8877-4093-c0bf-fe64ca27e9a2"
      },
      "source": [
        "#Czytanie tekstu z pliku.txt\n",
        "lorem_file_text = open(\"lorem.txt\").read()\n",
        "lorem_file_doc = nlp(lorem_file_text)\n",
        "print([token.text for token in lorem_file_doc])"
      ],
      "execution_count": 10,
      "outputs": [
        {
          "output_type": "stream",
          "text": [
            "['Lorem', 'ipsum', 'dolor', 'sit', 'amet', ',', 'consectetur', 'adipiscing', 'elit', '.', 'Maecenas', 'at', 'condimentum', 'arcu', '.', 'Morbi', 'sit', 'amet', 'vulputate', 'orci', '.', 'Praesent', 'tincidunt', 'tellus', 'quis', 'tellus', 'porta', 'elementum', '.', 'Suspendisse', 'quis', 'lacus', 'sagittis', ',', 'cursus', 'ligula', 'nec', ',', 'ultricies', 'tortor', '.', 'Quisque', 'consectetur', 'laoreet', 'porttitor', '.', 'Morbi', 'tortor', 'erat', ',', 'porta', 'vitae', 'scelerisque', 'ut', ',', 'venenatis', 'et', 'ligula', '.', 'Curabitur', 'ut', 'velit', 'in', 'nulla', 'fermentum', 'aliquam', 'eu', 'at', 'ipsum', '.', 'Nulla', 'ut', 'imperdiet', 'augue', '.', 'Sed', 'ornare', 'rhoncus', 'sollicitudin', '.', 'Aliquam', 'non', 'sem', 'aliquam', ',', 'interdum', 'tellus', 'ac', ',', 'tempor', 'nisi', '.', 'Fusce', 'elementum', 'est', 'sollicitudin', 'lectus', 'lobortis', ',', 'sit', 'amet', 'euismod', 'nibh', 'laoreet', '.', 'Pellentesque', 'convallis', 'magna', 'in', 'nisi', 'tincidunt', ',', 'ac', 'ornare', 'leo', 'imperdiet', '.', 'Cras', 'orci', 'justo', ',', 'cursus', 'sed', 'quam', 'quis', ',', 'maximus', 'malesuada', 'lacus', '.']\n"
          ],
          "name": "stdout"
        }
      ]
    },
    {
      "cell_type": "code",
      "metadata": {
        "colab": {
          "base_uri": "https://localhost:8080/"
        },
        "id": "77C_1KUNXkGU",
        "outputId": "54eee806-5792-4613-8fa6-2af413e65f91"
      },
      "source": [
        "#Detekcja zdań - sprawdzane na podstawie kropki oraz wilekiej litery\n",
        "about_text=('Szybkie podgrzanie a następnie schłodzenie, które spowoduje różnicę temperatur ok. 30st.C może spowodować pęknięcie naczynia szklanego.Myjąc naczynia w zmywarce należy nastawić program przeznaczony do mycia szkła oraz stosować odpowiednie środki chemiczne. Test. test.test.Test test między innymi: m.in. może prowadzić do złego wczytania zakończenia zdania')\n",
        "about_doc = nlp(about_text)\n",
        "sentences = list(about_doc.sents)\n",
        "len(sentences)\n",
        "\n",
        "for sentence in sentences:\n",
        "  print(sentence)"
      ],
      "execution_count": 21,
      "outputs": [
        {
          "output_type": "stream",
          "text": [
            "Szybkie podgrzanie a następnie schłodzenie, które spowoduje różnicę temperatur ok. 30st.\n",
            "C może spowodować pęknięcie naczynia szklanego.\n",
            "Myjąc naczynia w zmywarce należy nastawić program przeznaczony do mycia szkła oraz stosować odpowiednie środki chemiczne.\n",
            "Test.\n",
            "test.test.\n",
            "Test test między innymi: m.in.\n",
            "może prowadzić do złego wczytania zakończenia zdania\n"
          ],
          "name": "stdout"
        }
      ]
    },
    {
      "cell_type": "code",
      "metadata": {
        "colab": {
          "base_uri": "https://localhost:8080/"
        },
        "id": "pYYs3-iQZAvE",
        "outputId": "4bcf7554-fd1d-4d96-9ac0-1e4de0c258cc"
      },
      "source": [
        "#Tworzenie własnej detekcji zdań\n",
        "def set_custom_boundaries(doc):\n",
        "    for token in doc[:-1]:\n",
        "        if token.text == '...' or token.text == 'm.in.' or token.text == 'st.C':\n",
        "            doc[token.i+1].is_sent_start = True\n",
        "    return doc\n",
        "\n",
        "nlp.add_pipe(set_custom_boundaries, before='parser')\n",
        "custom_ellipsis_doc = nlp(about_text)\n",
        "custom_ellipsis_sentences = list(custom_ellipsis_doc.sents)\n",
        "\n",
        "for sentence in custom_ellipsis_sentences:\n",
        "    print(sentence)"
      ],
      "execution_count": 29,
      "outputs": [
        {
          "output_type": "stream",
          "text": [
            "Szybkie podgrzanie a następnie schłodzenie, które spowoduje różnicę temperatur ok. 30st.\n",
            "C może spowodować pęknięcie naczynia szklanego.\n",
            "Myjąc naczynia w zmywarce należy nastawić program przeznaczony do mycia szkła oraz stosować odpowiednie środki chemiczne.\n",
            "Test.\n",
            "test.test.\n",
            "Test test między innymi: m.in.\n",
            "może prowadzić do złego wczytania zakończenia zdania\n"
          ],
          "name": "stdout"
        }
      ]
    },
    {
      "cell_type": "code",
      "metadata": {
        "colab": {
          "base_uri": "https://localhost:8080/"
        },
        "id": "lVTODZOBcj08",
        "outputId": "1d0111db-4794-4114-8374-acdbcc44a777"
      },
      "source": [
        "#Tokenizacja tekstu \n",
        "for token in about_doc:\n",
        "  print (token, token.idx)"
      ],
      "execution_count": 35,
      "outputs": [
        {
          "output_type": "stream",
          "text": [
            "Szybkie 0\n",
            "podgrzanie 8\n",
            "a 19\n",
            "następnie 21\n",
            "schłodzenie 31\n",
            ", 42\n",
            "które 44\n",
            "spowoduje 50\n",
            "różnicę 60\n",
            "temperatur 68\n",
            "ok 79\n",
            ". 81\n",
            "30st 83\n",
            ". 87\n",
            "C 88\n",
            "może 90\n",
            "spowodować 95\n",
            "pęknięcie 106\n",
            "naczynia 116\n",
            "szklanego 125\n",
            ". 134\n",
            "Myjąc 135\n",
            "naczynia 141\n",
            "w 150\n",
            "zmywarce 152\n",
            "należy 161\n",
            "nastawić 168\n",
            "program 177\n",
            "przeznaczony 185\n",
            "do 198\n",
            "mycia 201\n",
            "szkła 207\n",
            "oraz 213\n",
            "stosować 218\n",
            "odpowiednie 227\n",
            "środki 239\n",
            "chemiczne 246\n",
            ". 255\n",
            "Test 257\n",
            ". 261\n",
            "test.test 263\n",
            ". 272\n",
            "Test 273\n",
            "test 278\n",
            "między 283\n",
            "innymi 290\n",
            ": 296\n",
            "m.in 298\n",
            ". 302\n",
            "może 304\n",
            "prowadzić 309\n",
            "do 319\n",
            "złego 322\n",
            "wczytania 328\n",
            "zakończenia 338\n",
            "zdania 350\n"
          ],
          "name": "stdout"
        }
      ]
    },
    {
      "cell_type": "code",
      "metadata": {
        "colab": {
          "base_uri": "https://localhost:8080/"
        },
        "id": "8P19z4_eddSL",
        "outputId": "a8cba52b-a177-40be-8894-870d3f2d8aed"
      },
      "source": [
        "#Szczegóły każdego tokenu\n",
        "for token in about_doc:\n",
        "  print (token, token.idx, token.text_with_ws,\n",
        "         token.is_alpha, token.is_punct, token.is_space,\n",
        "        token.shape_, token.is_stop)"
      ],
      "execution_count": 37,
      "outputs": [
        {
          "output_type": "stream",
          "text": [
            "Szybkie 0 Szybkie  True False False Xxxxx False\n",
            "podgrzanie 8 podgrzanie  True False False xxxx False\n",
            "a 19 a  True False False x True\n",
            "następnie 21 następnie  True False False xxxx False\n",
            "schłodzenie 31 schłodzenie True False False xxxx False\n",
            ", 42 ,  False True False , False\n",
            "które 44 które  True False False xxxx True\n",
            "spowoduje 50 spowoduje  True False False xxxx False\n",
            "różnicę 60 różnicę  True False False xxxx False\n",
            "temperatur 68 temperatur  True False False xxxx False\n",
            "ok 79 ok True False False xx True\n",
            ". 81 .  False True False . False\n",
            "30st 83 30st False False False ddxx False\n",
            ". 87 . False True False . False\n",
            "C 88 C  True False False X False\n",
            "może 90 może  True False False xxxx True\n",
            "spowodować 95 spowodować  True False False xxxx False\n",
            "pęknięcie 106 pęknięcie  True False False xxxx False\n",
            "naczynia 116 naczynia  True False False xxxx False\n",
            "szklanego 125 szklanego True False False xxxx False\n",
            ". 134 . False True False . False\n",
            "Myjąc 135 Myjąc  True False False Xxxxx False\n",
            "naczynia 141 naczynia  True False False xxxx False\n",
            "w 150 w  True False False x True\n",
            "zmywarce 152 zmywarce  True False False xxxx False\n",
            "należy 161 należy  True False False xxxx False\n",
            "nastawić 168 nastawić  True False False xxxx False\n",
            "program 177 program  True False False xxxx False\n",
            "przeznaczony 185 przeznaczony  True False False xxxx False\n",
            "do 198 do  True False False xx True\n",
            "mycia 201 mycia  True False False xxxx False\n",
            "szkła 207 szkła  True False False xxxx False\n",
            "oraz 213 oraz  True False False xxxx True\n",
            "stosować 218 stosować  True False False xxxx False\n",
            "odpowiednie 227 odpowiednie  True False False xxxx False\n",
            "środki 239 środki  True False False xxxx False\n",
            "chemiczne 246 chemiczne True False False xxxx False\n",
            ". 255 .  False True False . False\n",
            "Test 257 Test True False False Xxxx False\n",
            ". 261 .  False True False . False\n",
            "test.test 263 test.test False False False xxxx.xxxx False\n",
            ". 272 . False True False . False\n",
            "Test 273 Test  True False False Xxxx False\n",
            "test 278 test  True False False xxxx False\n",
            "między 283 między  True False False xxxx True\n",
            "innymi 290 innymi True False False xxxx False\n",
            ": 296 :  False True False : False\n",
            "m.in 298 m.in False False False x.xx False\n",
            ". 302 .  False True False . False\n",
            "może 304 może  True False False xxxx True\n",
            "prowadzić 309 prowadzić  True False False xxxx False\n",
            "do 319 do  True False False xx True\n",
            "złego 322 złego  True False False xxxx False\n",
            "wczytania 328 wczytania  True False False xxxx False\n",
            "zakończenia 338 zakończenia  True False False xxxx False\n",
            "zdania 350 zdania True False False xxxx False\n"
          ],
          "name": "stdout"
        }
      ]
    },
    {
      "cell_type": "code",
      "metadata": {
        "colab": {
          "base_uri": "https://localhost:8080/"
        },
        "id": "_ysU89XadmBv",
        "outputId": "56317023-30a4-4468-f842-436c50e382c8"
      },
      "source": [
        "#Tworzenie własnego tokenu:\n",
        "prefix_re = spacy.util.compile_prefix_regex(nlp.Defaults.prefixes)\n",
        "suffix_re = spacy.util.compile_suffix_regex(nlp.Defaults.suffixes)\n",
        "infix_re = re.compile(r'''[-~]''')\n",
        "def customize_tokenizer(nlp):\n",
        "    return Tokenizer(nlp.vocab, prefix_search=prefix_re.search,suffix_search=suffix_re.search,infix_finditer=infix_re.finditer,token_match=None)\n",
        "custom_token_text = 'To-jest-mój-tokenizer'\n",
        "nlp.tokenizer = customize_tokenizer(nlp)\n",
        "custom_tokenizer_doc = nlp(custom_token_text)\n",
        "print([token.text for token in custom_tokenizer_doc])"
      ],
      "execution_count": 40,
      "outputs": [
        {
          "output_type": "stream",
          "text": [
            "['To', '-', 'jest', '-', 'mój', '-', 'tokenizer']\n"
          ],
          "name": "stdout"
        }
      ]
    },
    {
      "cell_type": "code",
      "metadata": {
        "colab": {
          "base_uri": "https://localhost:8080/"
        },
        "id": "koWSj9anfEmJ",
        "outputId": "45acc351-fad2-4d4f-de39-7669dcad6f9c"
      },
      "source": [
        "#Stop lista\n",
        "spacy_stopwords = spacy.lang.pl.stop_words.STOP_WORDS\n",
        "len(spacy_stopwords)\n",
        "\n",
        "for stop_word in list(spacy_stopwords)[:10]:\n",
        "    print(stop_word)\n",
        "\n",
        "#Usunięcie słów z tekstu\n",
        "for token in about_doc:\n",
        "  if not token.is_stop:\n",
        "    print(token)"
      ],
      "execution_count": 44,
      "outputs": [
        {
          "output_type": "stream",
          "text": [
            "ten\n",
            "inny\n",
            "mną\n",
            "jedno\n",
            "nasza\n",
            "wasze\n",
            "nie\n",
            "znów\n",
            "gdyz\n",
            "on\n",
            "Szybkie\n",
            "podgrzanie\n",
            "następnie\n",
            "schłodzenie\n",
            ",\n",
            "spowoduje\n",
            "różnicę\n",
            "temperatur\n",
            ".\n",
            "30st\n",
            ".\n",
            "C\n",
            "spowodować\n",
            "pęknięcie\n",
            "naczynia\n",
            "szklanego\n",
            ".\n",
            "Myjąc\n",
            "naczynia\n",
            "zmywarce\n",
            "należy\n",
            "nastawić\n",
            "program\n",
            "przeznaczony\n",
            "mycia\n",
            "szkła\n",
            "stosować\n",
            "odpowiednie\n",
            "środki\n",
            "chemiczne\n",
            ".\n",
            "Test\n",
            ".\n",
            "test.test\n",
            ".\n",
            "Test\n",
            "test\n",
            "innymi\n",
            ":\n",
            "m.in\n",
            ".\n",
            "prowadzić\n",
            "złego\n",
            "wczytania\n",
            "zakończenia\n",
            "zdania\n"
          ],
          "name": "stdout"
        }
      ]
    },
    {
      "cell_type": "code",
      "metadata": {
        "colab": {
          "base_uri": "https://localhost:8080/"
        },
        "id": "5OXJI2-LfkW3",
        "outputId": "b409a3ea-df6a-49d8-f805-33c65661dfe1"
      },
      "source": [
        "#Lematyzacja - sprowadzanie danego słowa do jego formy podstawowej\n",
        "\n",
        "lemmatization_text = ('To jest jak przykładowy przykład przykładu działania przykładu')\n",
        "lemmatization_doc = nlp(lemmatization_text)\n",
        "for token in lemmatization_doc:\n",
        "  print(token, token.lemma_)"
      ],
      "execution_count": 45,
      "outputs": [
        {
          "output_type": "stream",
          "text": [
            "To to\n",
            "jest być\n",
            "jak jak\n",
            "przykładowy przykładowy\n",
            "przykład przykład\n",
            "przykładu przykład\n",
            "działania działanie\n",
            "przykładu przykład\n"
          ],
          "name": "stdout"
        }
      ]
    },
    {
      "cell_type": "code",
      "metadata": {
        "id": "9EQ72SCXgQFY"
      },
      "source": [
        "#Częstotliwość występownaia słów w tekście\n",
        "complete_text=(about_text)\n",
        "complete_doc = nlp(about_text)\n",
        "\n",
        "words = [token.text for token in complete_doc\n",
        "         if not token.is_stop and not token.is_punct]\n",
        "word_freq = Counter(words)"
      ],
      "execution_count": 49,
      "outputs": []
    },
    {
      "cell_type": "code",
      "metadata": {
        "colab": {
          "base_uri": "https://localhost:8080/"
        },
        "id": "IJxBi_vWg7AG",
        "outputId": "a122e826-e203-4d94-83e7-734593e64581"
      },
      "source": [
        "#5 najczęściej używanych słów:\n",
        "common_words = word_freq.most_common(5)\n",
        "print (common_words)"
      ],
      "execution_count": 50,
      "outputs": [
        {
          "output_type": "stream",
          "text": [
            "[('naczynia', 2), ('Szybkie', 1), ('podgrzanie', 1), ('następnie', 1), ('schłodzenie', 1)]\n"
          ],
          "name": "stdout"
        }
      ]
    },
    {
      "cell_type": "code",
      "metadata": {
        "colab": {
          "base_uri": "https://localhost:8080/"
        },
        "id": "9qR9lTUQg7MY",
        "outputId": "5203bab7-c590-454e-93f4-6b71605c36d8"
      },
      "source": [
        "#Słowa unikatowe\n",
        "unique_words = [word for (word, freq) in word_freq.items() if freq == 1]\n",
        "print (unique_words)"
      ],
      "execution_count": 51,
      "outputs": [
        {
          "output_type": "stream",
          "text": [
            "['Szybkie', 'podgrzanie', 'następnie', 'schłodzenie', 'spowoduje', 'różnicę', 'temperatur', '30st.C', 'spowodować', 'pęknięcie', 'szklanego.Myjąc', 'zmywarce', 'należy', 'nastawić', 'program', 'przeznaczony', 'mycia', 'szkła', 'stosować', 'odpowiednie', 'środki', 'chemiczne', 'Test', 'test.test.Test', 'test', 'innymi', 'm.in', 'prowadzić', 'złego', 'wczytania', 'zakończenia', 'zdania']\n"
          ],
          "name": "stdout"
        }
      ]
    },
    {
      "cell_type": "code",
      "metadata": {
        "colab": {
          "base_uri": "https://localhost:8080/"
        },
        "id": "uKDFwrAThQzk",
        "outputId": "3a6edf45-e4c1-4596-c31f-359eb71c6954"
      },
      "source": [
        "#Rozpoznawanie części mowy:\n",
        "for token in complete_doc:\n",
        "  print(token, token.tag_, token.pos_, spacy.explain(token.tag_),sep=', ')"
      ],
      "execution_count": 52,
      "outputs": [
        {
          "output_type": "stream",
          "text": [
            "Szybkie, ADJ, ADJ, adjective\n",
            "podgrzanie, GER, NOUN, None\n",
            "a, CONJ, CCONJ, conjunction\n",
            "następnie, ADV, ADV, adverb\n",
            "schłodzenie, ADV, ADV, adverb\n",
            ",, INTERP, PUNCT, None\n",
            "które, ADJ, ADJ, adjective\n",
            "spowoduje, FIN, VERB, None\n",
            "różnicę, SUBST, NOUN, None\n",
            "temperatur, SUBST, NOUN, None\n",
            "ok, BREV, X, None\n",
            "., INTERP, PUNCT, None\n",
            "30st.C, ADJ, ADJ, adjective\n",
            "może, FIN, VERB, None\n",
            "spowodować, INF, VERB, None\n",
            "pęknięcie, SUBST, NOUN, None\n",
            "naczynia, SUBST, NOUN, None\n",
            "szklanego.Myjąc, PCON, VERB, None\n",
            "naczynia, SUBST, NOUN, None\n",
            "w, PREP, ADP, None\n",
            "zmywarce, SUBST, NOUN, None\n",
            "należy, FIN, VERB, None\n",
            "nastawić, INF, VERB, None\n",
            "program, SUBST, NOUN, None\n",
            "przeznaczony, PPAS, VERB, None\n",
            "do, PREP, ADP, None\n",
            "mycia, GER, NOUN, None\n",
            "szkła, SUBST, NOUN, None\n",
            "oraz, CONJ, CCONJ, conjunction\n",
            "stosować, INF, VERB, None\n",
            "odpowiednie, ADJ, ADJ, adjective\n",
            "środki, SUBST, NOUN, None\n",
            "chemiczne, ADJ, ADJ, adjective\n",
            "., INTERP, PUNCT, None\n",
            "Test, SUBST, NOUN, None\n",
            "., INTERP, PUNCT, None\n",
            "test.test.Test, FIN, VERB, None\n",
            "test, SUBST, NOUN, None\n",
            "między, PREP, ADP, None\n",
            "innymi, ADJ, ADJ, adjective\n",
            ":, INTERP, PUNCT, None\n",
            "m.in, BREV, X, None\n",
            "., INTERP, PUNCT, None\n",
            "może, FIN, VERB, None\n",
            "prowadzić, INF, VERB, None\n",
            "do, PREP, ADP, None\n",
            "złego, ADJ, ADJ, adjective\n",
            "wczytania, GER, NOUN, None\n",
            "zakończenia, GER, NOUN, None\n",
            "zdania, SUBST, NOUN, None\n"
          ],
          "name": "stdout"
        }
      ]
    },
    {
      "cell_type": "code",
      "metadata": {
        "colab": {
          "base_uri": "https://localhost:8080/"
        },
        "id": "6Ad-v_28hYmd",
        "outputId": "805d13fa-368d-47f5-9021-ed39486f81e7"
      },
      "source": [
        "#Filtrowanie słów według kategorii:\n",
        "nouns = []\n",
        "adjectives = []\n",
        "for token in about_doc:\n",
        "    if token.pos_ == 'NOUN':\n",
        "        nouns.append(token)\n",
        "    if token.pos_ == 'ADJ':\n",
        "        adjectives.append(token)\n",
        "\n",
        "print(f'Rzeczowniki: {nouns}')\n",
        "print(f'Przymiotniki: {adjectives}')"
      ],
      "execution_count": 55,
      "outputs": [
        {
          "output_type": "stream",
          "text": [
            "Rzeczowniki: [podgrzanie, różnicę, temperatur, 30st, C, pęknięcie, naczynia, naczynia, zmywarce, program, mycia, szkła, środki, Test, test.test, Test, test, wczytania, zakończenia, zdania]\n",
            "Przymiotniki: [Szybkie, które, szklanego, odpowiednie, chemiczne, innymi, złego]\n"
          ],
          "name": "stdout"
        }
      ]
    },
    {
      "cell_type": "code",
      "metadata": {
        "colab": {
          "base_uri": "https://localhost:8080/"
        },
        "id": "IV1ucP4PhwZ5",
        "outputId": "07da7faa-363f-4eba-d071-b4a76dac4eed"
      },
      "source": [
        "#Wisualizacja z użyciem displaCy\n",
        "about_displaCy_text = ('Ja to tylko testuje i popijam herbatę, ponieważ chce mi się pić')\n",
        "about_displaCy_doc = nlp(about_displaCy_text)\n",
        "displacy.serve(about_displaCy_doc, style='dep')"
      ],
      "execution_count": 58,
      "outputs": [
        {
          "output_type": "stream",
          "text": [
            "\n",
            "Using the 'dep' visualizer\n",
            "Serving on http://0.0.0.0:5000 ...\n",
            "\n",
            "Shutting down server on port 5000.\n"
          ],
          "name": "stdout"
        }
      ]
    },
    {
      "cell_type": "code",
      "metadata": {
        "colab": {
          "base_uri": "https://localhost:8080/"
        },
        "id": "3yeWuFouj_zY",
        "outputId": "08104a56-ff05-4abf-b3f3-d866284f4f89"
      },
      "source": [
        "#Funkcje przetwarzania wstępnego:\n",
        "#Formatowanie słów do ich podstawowej formy\n",
        "def is_token_allowed(token):\n",
        "    if not token or not token.string.strip() or token.is_stop or token.is_punct:\n",
        "        return False\n",
        "    return True\n",
        "\n",
        "def preprocess_token(token):\n",
        "    return token.lemma_.strip().lower()\n",
        "\n",
        "complete_filtered_tokens = [preprocess_token(token)for token in complete_doc if is_token_allowed(token)]\n",
        "print(complete_filtered_tokens)"
      ],
      "execution_count": 59,
      "outputs": [
        {
          "output_type": "stream",
          "text": [
            "['szybki', 'podgrzanie', 'następnie', 'schłodzenie', 'spowodować', 'różnica', 'temperatura', '30st.c', 'spowodować', 'pęknięcie', 'naczynie', 'szklanego.myjąc', 'naczynie', 'zmywarka', 'należeć', 'nastawić', 'program', 'przeznaczyć', 'mycie', 'szkło', 'stosować', 'odpowiedni', 'środek', 'chemiczny', 'test', 'test.test.test', 'test', 'inny', 'm.in', 'prowadzić', 'zły', 'wczytania', 'zakończenie', 'zdanie']\n"
          ],
          "name": "stdout"
        }
      ]
    },
    {
      "cell_type": "code",
      "metadata": {
        "colab": {
          "base_uri": "https://localhost:8080/"
        },
        "id": "gqqFmMZVkbqc",
        "outputId": "b6cc7eda-9a61-41b1-b307-44f1ed50b306"
      },
      "source": [
        "#Ektrakcja imienia i nazwiska:\n",
        "#Polski słownik najwyraźniej nie działa w 100% poprawnie jeżeli chodzi i ekstrakcję danych\n",
        "def extract_full_name(nlp_doc):\n",
        "    pattern = [{'POS': 'PROPN '}, {'POS': 'PROPN'}]\n",
        "    matcher.add('FULL_NAME', None, pattern)\n",
        "    matches = matcher(nlp_doc)\n",
        "    for match_id, start, end in matches:\n",
        "        span = nlp_doc[start:end]\n",
        "        return span.text\n",
        "\n",
        "new_text_extract=\"Piotr Kowalecki test Test\"\n",
        "new_text_extract_doc=nlp(new_text_extract)\n",
        "matcher = Matcher(nlp.vocab)\n",
        "print(extract_full_name(new_text_extract_doc))\n",
        "\n",
        "new_text_extract_eg=\"Gus Proto\"\n",
        "new_text_extract_doc_eg=nlp(new_text_extract_eg)\n",
        "matcher = Matcher(nlp.vocab)\n",
        "print(extract_full_name(new_text_extract_doc_eg))\n"
      ],
      "execution_count": 68,
      "outputs": [
        {
          "output_type": "stream",
          "text": [
            "None\n",
            "None\n"
          ],
          "name": "stdout"
        }
      ]
    },
    {
      "cell_type": "code",
      "metadata": {
        "colab": {
          "base_uri": "https://localhost:8080/",
          "height": 35
        },
        "id": "-mvpQOX0lh41",
        "outputId": "1e96e8c8-3443-4ab3-b07f-962b57ee876e"
      },
      "source": [
        "#Ekstrakcja numeru telefonu \n",
        "\n",
        "phone_number=(\"To mój numer: 123 123 123\")\n",
        "\n",
        "def extract_phone_number(nlp_doc):\n",
        "\tpattern = [{\"SHAPE\": \"ddd\"}, {\"SHAPE\": \"ddd\"},{\"SHAPE\": \"ddd\"}]\n",
        "\tmatcher.add('PHONE_NUMBER', None, pattern)\n",
        "\tmatches = matcher(nlp_doc)\n",
        "\tfor match_id, start, end in matches:\n",
        "\t\tspan = nlp_doc[start:end]\n",
        "\t\treturn span.text\n",
        "\n",
        "conference_org_doc = nlp(phone_number)\n",
        "extract_phone_number(conference_org_doc)"
      ],
      "execution_count": 74,
      "outputs": [
        {
          "output_type": "execute_result",
          "data": {
            "application/vnd.google.colaboratory.intrinsic+json": {
              "type": "string"
            },
            "text/plain": [
              "'123 123 123'"
            ]
          },
          "metadata": {
            "tags": []
          },
          "execution_count": 74
        }
      ]
    },
    {
      "cell_type": "code",
      "metadata": {
        "colab": {
          "base_uri": "https://localhost:8080/"
        },
        "id": "CY9Gb7fMmwbd",
        "outputId": "d1267ec4-9493-4b7b-90fe-bcb35afedbc6"
      },
      "source": [
        "#Struktura zdania:\n",
        "\n",
        "text = ('Nie wiem co wpisywać')\n",
        "text_doc = nlp(text)\n",
        "for token in text_doc:\n",
        "  print (token.text, token.tag_, token.head.text, token.dep_)\n",
        "displacy.serve(text_doc, style='dep')"
      ],
      "execution_count": 77,
      "outputs": [
        {
          "output_type": "stream",
          "text": [
            "Nie QUB wiem advmod\n",
            "wiem FIN wiem ROOT\n",
            "co SUBST wpisywać obj\n",
            "wpisywać INF wiem xcomp\n",
            "\n",
            "Using the 'dep' visualizer\n",
            "Serving on http://0.0.0.0:5000 ...\n",
            "\n",
            "Shutting down server on port 5000.\n"
          ],
          "name": "stdout"
        }
      ]
    },
    {
      "cell_type": "code",
      "metadata": {
        "colab": {
          "base_uri": "https://localhost:8080/"
        },
        "id": "g1SLmGFKnTu5",
        "outputId": "775275b5-5f67-4403-c577-1c0ee0baa2d9"
      },
      "source": [
        "#Nawigacja do drzew\n",
        "one_line_about_text = ('Piotr Kowalecki posiłkuje się przykładami oraz sprawdza, co i jak')\n",
        "one_line_about_doc = nlp(one_line_about_text)\n",
        "\n",
        "#Podzielnie słowa 'przykładami' oraz wyświetlenie sąsiadów słowa\n",
        "print([token.text for token in one_line_about_doc[3].children])\n",
        "print (one_line_about_doc[3].nbor(-1))\n",
        "print (one_line_about_doc[3].nbor())\n",
        "#Poddrzewao słowa 'przykładami'\n",
        "print (list(one_line_about_doc[3].subtree))\n"
      ],
      "execution_count": 94,
      "outputs": [
        {
          "output_type": "stream",
          "text": [
            "[]\n",
            "posiłkuje\n",
            "przykładami\n",
            "[się]\n",
            "się\n"
          ],
          "name": "stdout"
        }
      ]
    },
    {
      "cell_type": "code",
      "metadata": {
        "id": "6lwlmzBSqCJC"
      },
      "source": [
        "#Wykrywanie fraz rzeczownikowych\n",
        "conference_text = ('Sprawdzam kosz, piernik, rzeczownik, tęsknota')\n",
        "conference_doc = nlp(conference_text)\n",
        "for chunk in conference_doc.noun_chunks:\n",
        "  print (chunk)\n",
        "#W polskim wydaniu chyba nie działa "
      ],
      "execution_count": 100,
      "outputs": []
    },
    {
      "cell_type": "code",
      "metadata": {
        "colab": {
          "base_uri": "https://localhost:8080/"
        },
        "id": "Gcrc3BH3qeWm",
        "outputId": "6b56b80b-a6c1-4939-8ae9-286aad0602a6"
      },
      "source": [
        "#Wykrywanie fraz czasownika\n",
        "\n",
        "about_talk_text=('Niewielki piesek poszedł na spacer. Niemądry Adaś pokłócił się z kolegą. Niegrzeczne dziecko krzyczało całą noc.')\n",
        "pattern = [{\"POS\": \"VERB\", \"OP\": \"*\"},{\"POS\": \"ADV\", \"OP\": \"*\"},{\"POS\": \"VERB\", \"OP\": \"+\"},{\"POS\": \"PART\", \"OP\": \"*\"}]\n",
        "about_talk_doc = textacy.make_spacy_doc(about_talk_text, nlp)\n",
        "verb_phrases = textacy.extract.matches(about_talk_doc, pattern)\n",
        "for chunk in verb_phrases:\n",
        "    print(chunk.text)\n",
        "\n",
        "for chunk in about_talk_doc.noun_chunks:\n",
        "    print (chunk)"
      ],
      "execution_count": 102,
      "outputs": [
        {
          "output_type": "stream",
          "text": [
            "poszedł\n",
            "pokłócił\n",
            "pokłócił się\n",
            "krzyczało\n"
          ],
          "name": "stdout"
        }
      ]
    },
    {
      "cell_type": "code",
      "metadata": {
        "colab": {
          "base_uri": "https://localhost:8080/"
        },
        "id": "glcjykYrq91a",
        "outputId": "c50ead33-1a3b-4ac4-e3e8-b11e41d91814"
      },
      "source": [
        "#Używanie NER do wyszukiwania konkretnych danych i w tym przypadku do ukrywania ich \n",
        "survey_text =('Jan Nowak nie wie co się dzieje natomiast Anna Dymna doskonale zdaje sobie sprawę, że Tomasz Kos zjadł jej czekoaldki')\n",
        "def replace_person_names(token):\n",
        "    if token.ent_iob != 0 and token.ent_type_ == 'persName':\n",
        "        return '[Zgadnij] '\n",
        "    return token.string\n",
        "\n",
        "def redact_names(nlp_doc):\n",
        "    for ent in nlp_doc.ents:\n",
        "        ent.merge()\n",
        "    tokens = map(replace_person_names, nlp_doc)\n",
        "    return ''.join(tokens)\n",
        "\n",
        "survey_doc = nlp(survey_text)\n",
        "print(redact_names(survey_doc))\n",
        "print(survey_text)"
      ],
      "execution_count": 108,
      "outputs": [
        {
          "output_type": "stream",
          "text": [
            "[Zgadnij] nie wie co się dzieje natomiast [Zgadnij] doskonale zdaje sobie sprawę, że [Zgadnij] zjadł jej czekoaldki\n",
            "Jan Nowak nie wie co się dzieje natomiast Anna Dymna doskonale zdaje sobie sprawę, że Tomasz Kos zjadł jej czekoaldki\n"
          ],
          "name": "stdout"
        }
      ]
    }
  ]
}