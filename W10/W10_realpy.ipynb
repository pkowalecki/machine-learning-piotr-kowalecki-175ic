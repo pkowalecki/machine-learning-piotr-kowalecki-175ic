{
  "nbformat": 4,
  "nbformat_minor": 0,
  "metadata": {
    "colab": {
      "name": "W10_realpy.ipynb",
      "provenance": [],
      "collapsed_sections": [],
      "authorship_tag": "ABX9TyNGbryPnXqagkKc+yJeIPwN"
    },
    "kernelspec": {
      "name": "python3",
      "display_name": "Python 3"
    }
  },
  "cells": [
    {
      "cell_type": "code",
      "metadata": {
        "id": "hc-bL_jsxmKf"
      },
      "source": [
        "pip install aiohttp"
      ],
      "execution_count": null,
      "outputs": []
    },
    {
      "cell_type": "code",
      "metadata": {
        "id": "K0bD3Zp4wBPv"
      },
      "source": [
        "import requests\r\n",
        "import time\r\n",
        "\r\n",
        "import concurrent.futures\r\n",
        "import threading\r\n",
        "\r\n",
        "import asyncio\r\n",
        "import aiohttp\r\n",
        "import nest_asyncio\r\n",
        "\r\n",
        "import multiprocessing"
      ],
      "execution_count": 4,
      "outputs": []
    },
    {
      "cell_type": "code",
      "metadata": {
        "colab": {
          "base_uri": "https://localhost:8080/"
        },
        "id": "ZxNE5cgJx2wh",
        "outputId": "808200cf-f0bd-4b26-c99d-b2e707611342"
      },
      "source": [
        "#Synchronicznie\r\n",
        "def download_all_sites(sites):\r\n",
        "    with requests.Session() as session:\r\n",
        "        for url in sites:\r\n",
        "            session.get(url)\r\n",
        "\r\n",
        "\r\n",
        "sites = [\r\n",
        "         \r\n",
        "    \"https://www.jython.org\",\r\n",
        "    \"http://olympus.realpython.org/dice\",\r\n",
        "    \r\n",
        "] * 80\r\n",
        "start_time = time.time()\r\n",
        "download_all_sites(sites)\r\n",
        "duration_sync = time.time() - start_time\r\n",
        "\r\n",
        "print(f\"Downloaded {len(sites)} in {duration_sync} seconds\")"
      ],
      "execution_count": 29,
      "outputs": [
        {
          "output_type": "stream",
          "text": [
            "Downloaded 160 in 6.798910140991211 seconds\n"
          ],
          "name": "stdout"
        }
      ]
    },
    {
      "cell_type": "code",
      "metadata": {
        "id": "JO60XH65zffF",
        "colab": {
          "base_uri": "https://localhost:8080/"
        },
        "outputId": "d3f764ec-228c-4629-8f12-e62c26f18580"
      },
      "source": [
        "#Przykłąd z wątkami\r\n",
        "\r\n",
        "thread_local = threading.local()\r\n",
        "\r\n",
        "def get_session():\r\n",
        "    if not hasattr(thread_local, \"session\"):\r\n",
        "        thread_local.session = requests.Session()\r\n",
        "    return thread_local.session\r\n",
        "\r\n",
        "\r\n",
        "def download_site(url):\r\n",
        "    session = get_session()\r\n",
        "    with session.get(url) as response:\r\n",
        "        session.get(url)\r\n",
        "\r\n",
        "\r\n",
        "def download_all_sites(sites):\r\n",
        "    with concurrent.futures.ThreadPoolExecutor(max_workers=5) as executor:\r\n",
        "        executor.map(download_site, sites)\r\n",
        "\r\n",
        "\r\n",
        "if __name__ == \"__main__\":\r\n",
        "    sites = [\r\n",
        "        \"https://www.jython.org\",\r\n",
        "        \"http://olympus.realpython.org/dice\",\r\n",
        "    ] * 80\r\n",
        "    start_time = time.time()\r\n",
        "    download_all_sites(sites)\r\n",
        "    duration_thread = time.time() - start_time\r\n",
        "    print(f\"Downloaded {len(sites)} in {duration_thread} seconds\")"
      ],
      "execution_count": 30,
      "outputs": [
        {
          "output_type": "stream",
          "text": [
            "Downloaded 160 in 2.7790029048919678 seconds\n"
          ],
          "name": "stdout"
        }
      ]
    },
    {
      "cell_type": "code",
      "metadata": {
        "colab": {
          "base_uri": "https://localhost:8080/"
        },
        "id": "TC6rH-uFDHjK",
        "outputId": "b664cd87-ea8c-4062-87eb-cad1b879f795"
      },
      "source": [
        "#Asyncio - async and await\r\n",
        "async def download_all_sites(sites):\r\n",
        "    async with aiohttp.ClientSession() as session:\r\n",
        "        tasks = []\r\n",
        "        for url in sites:\r\n",
        "            task = asyncio.ensure_future(session.get(url))\r\n",
        "            tasks.append(task)\r\n",
        "        await asyncio.gather(*tasks, return_exceptions=True)\r\n",
        "\r\n",
        "\r\n",
        "if __name__ == \"__main__\":\r\n",
        "    sites = [\r\n",
        "        \"https://www.jython.org\",\r\n",
        "        \"http://olympus.realpython.org/dice\",\r\n",
        "    ] * 80\r\n",
        "    start_time = time.time()\r\n",
        "    nest_asyncio.apply()\r\n",
        "    asyncio.run(download_all_sites(sites))\r\n",
        "    duration_asyncio = time.time() - start_time\r\n",
        "    print(f\"Downloaded {len(sites)} sites in {duration_asyncio} seconds\")"
      ],
      "execution_count": 34,
      "outputs": [
        {
          "output_type": "stream",
          "text": [
            "Downloaded 160 sites in 9.270736932754517 seconds\n"
          ],
          "name": "stdout"
        }
      ]
    },
    {
      "cell_type": "code",
      "metadata": {
        "colab": {
          "base_uri": "https://localhost:8080/"
        },
        "id": "zj1D3Av0FyjM",
        "outputId": "54a7548d-f23a-4054-f648-334a6f37b761"
      },
      "source": [
        "#Multiprocessing\r\n",
        "\r\n",
        "session = None\r\n",
        "\r\n",
        "\r\n",
        "def set_global_session():\r\n",
        "    global session\r\n",
        "    if not session:\r\n",
        "        session = requests.Session()\r\n",
        "\r\n",
        "\r\n",
        "def download_site(url):\r\n",
        "    with session.get(url) as response:\r\n",
        "        name = multiprocessing.current_process().name\r\n",
        "        session.get(url)\r\n",
        "\r\n",
        "\r\n",
        "def download_all_sites(sites):\r\n",
        "    with multiprocessing.Pool(initializer=set_global_session) as pool:\r\n",
        "        pool.map(download_site, sites)\r\n",
        "\r\n",
        "\r\n",
        "if __name__ == \"__main__\":\r\n",
        "    sites = [\r\n",
        "        \"https://www.jython.org\",\r\n",
        "        \"http://olympus.realpython.org/dice\",\r\n",
        "    ] * 80\r\n",
        "    start_time = time.time()\r\n",
        "    download_all_sites(sites)\r\n",
        "    duration_multiproc = time.time() - start_time\r\n",
        "    print(f\"Downloaded {len(sites)} in {duration_multiproc} seconds\")"
      ],
      "execution_count": 32,
      "outputs": [
        {
          "output_type": "stream",
          "text": [
            "Downloaded 160 in 6.883204221725464 seconds\n"
          ],
          "name": "stdout"
        }
      ]
    },
    {
      "cell_type": "code",
      "metadata": {
        "colab": {
          "base_uri": "https://localhost:8080/"
        },
        "id": "p9z66zktJyUv",
        "outputId": "fedcbf7c-566d-4ae0-b090-648fcf06847b"
      },
      "source": [
        "#Compare\r\n",
        "print(f\"Synchronic: {duration_sync} seconds\")\r\n",
        "print(f\"Threading: {duration_thread} seconds\")\r\n",
        "print(f\"Asyncio: {duration_asyncio} seconds\")\r\n",
        "print(f\"Multiprocessing: {duration_multiproc} seconds\")"
      ],
      "execution_count": 37,
      "outputs": [
        {
          "output_type": "stream",
          "text": [
            "Synchronic: 6.798910140991211 seconds\n",
            "Threading: 2.7790029048919678 seconds\n",
            "Asyncio: 9.270736932754517 seconds\n",
            "Multiprocessing: 6.883204221725464 seconds\n"
          ],
          "name": "stdout"
        }
      ]
    },
    {
      "cell_type": "code",
      "metadata": {
        "colab": {
          "base_uri": "https://localhost:8080/"
        },
        "id": "d2ZvNmukKPWL",
        "outputId": "1dce60b1-e6eb-4b97-9f20-3a193b9fa695"
      },
      "source": [
        "#CPU-Bound Synchronous\r\n",
        "\r\n",
        "def cpu_bound(number):\r\n",
        "    return sum(i * i for i in range(number))\r\n",
        "\r\n",
        "\r\n",
        "def find_sums(numbers):\r\n",
        "    for number in numbers:\r\n",
        "        cpu_bound(number)\r\n",
        "\r\n",
        "\r\n",
        "if __name__ == \"__main__\":\r\n",
        "    numbers = [5_000_000 + x for x in range(20)]\r\n",
        "\r\n",
        "    start_time = time.time()\r\n",
        "    find_sums(numbers)\r\n",
        "    duration_cpu_synchronous = time.time() - start_time\r\n",
        "    print(f\"Duration {duration_cpu_synchronous} seconds\")"
      ],
      "execution_count": 38,
      "outputs": [
        {
          "output_type": "stream",
          "text": [
            "Duration 9.37926197052002 seconds\n"
          ],
          "name": "stdout"
        }
      ]
    },
    {
      "cell_type": "code",
      "metadata": {
        "colab": {
          "base_uri": "https://localhost:8080/"
        },
        "id": "5gnJXZy_KmqF",
        "outputId": "b8fa6d7c-5067-4f72-a822-f2167a51eff5"
      },
      "source": [
        "#CPU-Bound multiprocessing\r\n",
        "def cpu_bound(number):\r\n",
        "    return sum(i * i for i in range(number))\r\n",
        "\r\n",
        "\r\n",
        "def find_sums(numbers):\r\n",
        "    with multiprocessing.Pool() as pool:\r\n",
        "        pool.map(cpu_bound, numbers)\r\n",
        "\r\n",
        "\r\n",
        "if __name__ == \"__main__\":\r\n",
        "    numbers = [5_000_000 + x for x in range(20)]\r\n",
        "\r\n",
        "    start_time = time.time()\r\n",
        "    find_sums(numbers)\r\n",
        "    duration_cpu_multiprocessing = time.time() - start_time\r\n",
        "    print(f\"Duration {duration_cpu_multiprocessing} seconds\")"
      ],
      "execution_count": 40,
      "outputs": [
        {
          "output_type": "stream",
          "text": [
            "Duration 10.48751974105835 seconds\n"
          ],
          "name": "stdout"
        }
      ]
    },
    {
      "cell_type": "code",
      "metadata": {
        "colab": {
          "base_uri": "https://localhost:8080/"
        },
        "id": "CgnL7oe-K6u3",
        "outputId": "e38984a5-88fe-4f00-a481-89b11411e7ce"
      },
      "source": [
        "#\r\n",
        "print(f\"Synchronic: {duration_sync} seconds\")\r\n",
        "print(f\"Threading: {duration_thread} seconds\")\r\n",
        "print(f\"Asyncio: {duration_asyncio} seconds\")\r\n",
        "print(f\"Multiprocessing: {duration_multiproc} seconds \\n\")\r\n",
        "\r\n",
        "print(f\"CPU-Bound Synchronous {duration_cpu_synchronous} seconds\")\r\n",
        "print(f\"CPU-Bound multiprocessing {duration_cpu_multiprocessing} seconds\")"
      ],
      "execution_count": 42,
      "outputs": [
        {
          "output_type": "stream",
          "text": [
            "Synchronic: 6.798910140991211 seconds\n",
            "Threading: 2.7790029048919678 seconds\n",
            "Asyncio: 9.270736932754517 seconds\n",
            "Multiprocessing: 6.883204221725464 seconds \n",
            "\n",
            "CPU-Bound Synchronous 9.37926197052002 seconds\n",
            "CPU-Bound multiprocessing 10.48751974105835 seconds\n"
          ],
          "name": "stdout"
        }
      ]
    }
  ]
}