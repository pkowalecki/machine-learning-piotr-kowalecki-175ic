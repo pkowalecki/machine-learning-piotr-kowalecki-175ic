{
  "nbformat": 4,
  "nbformat_minor": 0,
  "metadata": {
    "colab": {
      "name": "W10_stackabuse.ipynb",
      "provenance": [],
      "collapsed_sections": [],
      "authorship_tag": "ABX9TyMRGav+19hcgMAHvugYDitm"
    },
    "kernelspec": {
      "name": "python3",
      "display_name": "Python 3"
    }
  },
  "cells": [
    {
      "cell_type": "code",
      "metadata": {
        "id": "ne17yHlPNI1a"
      },
      "source": [
        "pip install aiohttp"
      ],
      "execution_count": null,
      "outputs": []
    },
    {
      "cell_type": "code",
      "metadata": {
        "id": "vsACff5JLiKz"
      },
      "source": [
        "import time\r\n",
        "import nest_asyncio\r\n",
        "import requests\r\n",
        "import json\r\n",
        "from urllib import request\r\n",
        "import multiprocessing\r\n",
        "import asyncio\r\n",
        "import aiohttp\r\n",
        "from concurrent.futures import ThreadPoolExecutor"
      ],
      "execution_count": 22,
      "outputs": []
    },
    {
      "cell_type": "code",
      "metadata": {
        "colab": {
          "base_uri": "https://localhost:8080/"
        },
        "id": "RRD3OY8nM07c",
        "outputId": "08db4109-3156-4abc-818e-f015ebcabb14"
      },
      "source": [
        "#Synchronous\r\n",
        "def download_images():\r\n",
        "    response = requests.get(\"https://picsum.photos/v2/list\")\r\n",
        "    if response.status_code != 200:\r\n",
        "        raise AttributeError('GET /tasks/ {}'.format(response.status_code))\r\n",
        "    data = json.loads(response.text)[:10]\r\n",
        "\r\n",
        "    pictures=[]\r\n",
        "    for s in data:\r\n",
        "        pictures.append(s['download_url']+\".jpg\")\r\n",
        "    return pictures\r\n",
        "\r\n",
        "def saveImages(link):\r\n",
        "    filename = link.split('/')[6].split('.')[0]\r\n",
        "    fileformat = link.split('/')[6].split('.')[1]\r\n",
        "    request.urlretrieve(link, \"picture/{}.{}\".format(filename, fileformat))\r\n",
        "\r\n",
        "def main():\r\n",
        "    images = download_images()\r\n",
        "    for image in images:\r\n",
        "        saveImages(image)\r\n",
        "\r\n",
        "start_time = time.time()\r\n",
        "main()\r\n",
        "duration_synch = time.time() - start_time\r\n",
        "print(f\"Time taken: {duration_synch}\")"
      ],
      "execution_count": 23,
      "outputs": [
        {
          "output_type": "stream",
          "text": [
            "Time taken: 8.019447088241577\n"
          ],
          "name": "stdout"
        }
      ]
    },
    {
      "cell_type": "code",
      "metadata": {
        "colab": {
          "base_uri": "https://localhost:8080/"
        },
        "id": "9doeTc7nONuQ",
        "outputId": "c9161c57-11ef-4312-b684-2186d23f2c20"
      },
      "source": [
        "#Multithreading\r\n",
        "def process_images_threading():\r\n",
        "    images = download_images()\r\n",
        "    with ThreadPoolExecutor(max_workers=5) as executor:\r\n",
        "        executor.map(saveImages,images)\r\n",
        "\r\n",
        "start_time = time.time()\r\n",
        "process_images_threading()\r\n",
        "duration_multithreading = time.time() - start_time\r\n",
        "print(f\"Time taken: {duration_multithreading}\")"
      ],
      "execution_count": 12,
      "outputs": [
        {
          "output_type": "stream",
          "text": [
            "Time taken: 5.275107383728027\n"
          ],
          "name": "stdout"
        }
      ]
    },
    {
      "cell_type": "code",
      "metadata": {
        "colab": {
          "base_uri": "https://localhost:8080/"
        },
        "id": "qsx1pUjNRJoa",
        "outputId": "5d1a6c0f-e1b2-4916-b5a5-14c368cd2411"
      },
      "source": [
        "#Asyncio\r\n",
        "async def download_images_asyncio(link, session):\r\n",
        "    filename = link.split('/')[6].split('.')[0]\r\n",
        "    fileformat = link.split('/')[6].split('.')[1]\r\n",
        "    async with session.get(link) as response:\r\n",
        "        with open(\"picture/{}.{}\".format(filename, fileformat), 'wb') as fd:\r\n",
        "            async for data in response.content.iter_chunked(1024):\r\n",
        "                fd.write(data)\r\n",
        "\r\n",
        "async def main_asyncio():\r\n",
        "    images = download_images()\r\n",
        "\r\n",
        "    async with aiohttp.ClientSession() as session:\r\n",
        "        tasks=[download_images_asyncio(image,session)for image in images]\r\n",
        "        return await asyncio.gather(*tasks)\r\n",
        "\r\n",
        "start_time = time.time()\r\n",
        "nest_asyncio.apply()\r\n",
        "asyncio.run(main_asyncio())\r\n",
        "duration_asyncio = time.time() - start_time\r\n",
        "print(f\"Time taken: {duration_asyncio}\")"
      ],
      "execution_count": 13,
      "outputs": [
        {
          "output_type": "stream",
          "text": [
            "Time taken: 1.086766004562378\n"
          ],
          "name": "stdout"
        }
      ]
    },
    {
      "cell_type": "code",
      "metadata": {
        "colab": {
          "base_uri": "https://localhost:8080/"
        },
        "id": "XGQaryciRwoJ",
        "outputId": "c38d5c45-d204-432b-8c14-b7e4ac57a595"
      },
      "source": [
        "#Compare\r\n",
        "print(f\"Synchronous: {duration_synch}\")\r\n",
        "print(f\"Multithreading: {duration_multithreading}\")\r\n",
        "print(f\"Asyncio: {duration_asyncio}\")"
      ],
      "execution_count": 35,
      "outputs": [
        {
          "output_type": "stream",
          "text": [
            "Synchronous: 8.019447088241577\n",
            "Multithreading: 5.275107383728027\n",
            "Asyncio: 1.086766004562378\n"
          ],
          "name": "stdout"
        }
      ]
    }
  ]
}