{
  "nbformat": 4,
  "nbformat_minor": 0,
  "metadata": {
    "colab": {
      "name": "W8_csv.ipynb",
      "provenance": [],
      "collapsed_sections": [],
      "authorship_tag": "ABX9TyPO7w16DVMJbAqtsuRYWd4/"
    },
    "kernelspec": {
      "name": "python3",
      "display_name": "Python 3"
    }
  },
  "cells": [
    {
      "cell_type": "code",
      "metadata": {
        "id": "wHegTIkfZ08G"
      },
      "source": [
        "import csv\r\n",
        "import pandas as pd"
      ],
      "execution_count": 29,
      "outputs": []
    },
    {
      "cell_type": "code",
      "metadata": {
        "colab": {
          "base_uri": "https://localhost:8080/"
        },
        "id": "GonIF2ozaciL",
        "outputId": "f72e8fb8-64d7-4f95-e988-ad77dc16cea2"
      },
      "source": [
        "#Czytanie plików CSV\r\n",
        "with open('csv_file/addresses.txt') as csv_file:\r\n",
        "    csv_reader = csv.reader(csv_file, delimiter=',')\r\n",
        "    line_count = 0\r\n",
        "    for row in csv_reader:\r\n",
        "        if line_count == 0:\r\n",
        "            print(f'Column names are {\", \".join(row)}')\r\n",
        "            line_count += 1\r\n",
        "        else:\r\n",
        "            print(f'\\t{row[0]} {row[1]} comes from {row[4]} and has post code {row[5]}.')\r\n",
        "            line_count += 1\r\n",
        "    print(f'Processed {line_count} lines.')"
      ],
      "execution_count": 16,
      "outputs": [
        {
          "output_type": "stream",
          "text": [
            "Column names are Name,  Surname, Street, City, Nb, PostCode\n",
            "\tJohn Doe comes from  NJ and has post code  08075.\n",
            "\tJack McGinnis comes from  PA and has post code 09119.\n",
            "\tJohn \"Da Man\" Repici comes from  NJ and has post code 08075\".\n",
            "Processed 4 lines.\n"
          ],
          "name": "stdout"
        }
      ]
    },
    {
      "cell_type": "code",
      "metadata": {
        "colab": {
          "base_uri": "https://localhost:8080/"
        },
        "id": "LxNZlTNrdJCK",
        "outputId": "69ad9a47-1452-4edf-ce38-4d45631268bd"
      },
      "source": [
        "#Pisanie plików CSV\r\n",
        "with open('csv_file/addresses.csv', mode='w') as employee_file:\r\n",
        "    employee_writer = csv.writer(employee_file, delimiter=',', quotechar='\"', quoting=csv.QUOTE_MINIMAL)\r\n",
        "\r\n",
        "    employee_writer.writerow(['Name', 'Surname','Street','City','Nb','PostCode'])\r\n",
        "    employee_writer.writerow(['John', 'Smith', 'Street', 'Tahoma','Th','0000000'])\r\n",
        "\r\n",
        "with open('csv_file/addresses.csv') as csv_file:\r\n",
        "    csv_reader = csv.reader(csv_file, delimiter=',')\r\n",
        "    line_count = 0\r\n",
        "    for row in csv_reader:\r\n",
        "        if line_count == 0:\r\n",
        "            print(f'Column names are {\", \".join(row)}')\r\n",
        "            line_count += 1\r\n",
        "        else:\r\n",
        "            print(f'\\t{row[0]} {row[1]} comes from {row[4]} and has post code {row[5]}.')\r\n",
        "            line_count += 1\r\n",
        "    print(f'Processed {line_count} lines.')\r\n"
      ],
      "execution_count": 27,
      "outputs": [
        {
          "output_type": "stream",
          "text": [
            "Column names are Name, Surname, Street, City, Nb, PostCode\n",
            "\tJohn Smith comes from Th and has post code 0000000.\n",
            "Processed 2 lines.\n"
          ],
          "name": "stdout"
        }
      ]
    },
    {
      "cell_type": "code",
      "metadata": {
        "id": "1ndc_-Vfezdk"
      },
      "source": [
        "#Pisanie plików CSV #2\r\n",
        "with open('csv_file/addresses2.csv', mode='w') as csv_file:\r\n",
        "    fieldnames = ['emp_name', 'dept', 'birth_month']\r\n",
        "    writer = csv.DictWriter(csv_file, fieldnames=fieldnames)\r\n",
        "\r\n",
        "    writer.writeheader()\r\n",
        "    writer.writerow({'emp_name': 'John Smith', 'dept': 'Accounting', 'birth_month': 'November'})\r\n",
        "    writer.writerow({'emp_name': 'Erica Meyers', 'dept': 'IT', 'birth_month': 'March'})"
      ],
      "execution_count": 28,
      "outputs": []
    },
    {
      "cell_type": "code",
      "metadata": {
        "colab": {
          "base_uri": "https://localhost:8080/",
          "height": 402
        },
        "id": "r50LSh_MfRjE",
        "outputId": "e3eb1af8-870c-4e56-e801-5fcbf53256ad"
      },
      "source": [
        "#Czytanie plików CSV z pomocą PANDAS\r\n",
        "df = pd.read_csv('csv_file/freshman_kgs.csv')\r\n",
        "df"
      ],
      "execution_count": 31,
      "outputs": [
        {
          "output_type": "execute_result",
          "data": {
            "text/html": [
              "<div>\n",
              "<style scoped>\n",
              "    .dataframe tbody tr th:only-of-type {\n",
              "        vertical-align: middle;\n",
              "    }\n",
              "\n",
              "    .dataframe tbody tr th {\n",
              "        vertical-align: top;\n",
              "    }\n",
              "\n",
              "    .dataframe thead th {\n",
              "        text-align: right;\n",
              "    }\n",
              "</style>\n",
              "<table border=\"1\" class=\"dataframe\">\n",
              "  <thead>\n",
              "    <tr style=\"text-align: right;\">\n",
              "      <th></th>\n",
              "      <th>Sex</th>\n",
              "      <th>\"Weight (Sep)\"</th>\n",
              "      <th>\"Weight (Apr)\"</th>\n",
              "      <th>\"BMI (Sep)\"</th>\n",
              "      <th>\"BMI (Apr)\"</th>\n",
              "    </tr>\n",
              "  </thead>\n",
              "  <tbody>\n",
              "    <tr>\n",
              "      <th>0</th>\n",
              "      <td>M</td>\n",
              "      <td>72</td>\n",
              "      <td>59</td>\n",
              "      <td>22.02</td>\n",
              "      <td>18.14</td>\n",
              "    </tr>\n",
              "    <tr>\n",
              "      <th>1</th>\n",
              "      <td>M</td>\n",
              "      <td>97</td>\n",
              "      <td>86</td>\n",
              "      <td>19.70</td>\n",
              "      <td>17.44</td>\n",
              "    </tr>\n",
              "    <tr>\n",
              "      <th>2</th>\n",
              "      <td>M</td>\n",
              "      <td>74</td>\n",
              "      <td>69</td>\n",
              "      <td>24.09</td>\n",
              "      <td>22.43</td>\n",
              "    </tr>\n",
              "    <tr>\n",
              "      <th>3</th>\n",
              "      <td>M</td>\n",
              "      <td>93</td>\n",
              "      <td>88</td>\n",
              "      <td>26.97</td>\n",
              "      <td>25.57</td>\n",
              "    </tr>\n",
              "    <tr>\n",
              "      <th>4</th>\n",
              "      <td>F</td>\n",
              "      <td>68</td>\n",
              "      <td>64</td>\n",
              "      <td>21.51</td>\n",
              "      <td>20.10</td>\n",
              "    </tr>\n",
              "    <tr>\n",
              "      <th>...</th>\n",
              "      <td>...</td>\n",
              "      <td>...</td>\n",
              "      <td>...</td>\n",
              "      <td>...</td>\n",
              "      <td>...</td>\n",
              "    </tr>\n",
              "    <tr>\n",
              "      <th>62</th>\n",
              "      <td>M</td>\n",
              "      <td>65</td>\n",
              "      <td>71</td>\n",
              "      <td>22.51</td>\n",
              "      <td>24.45</td>\n",
              "    </tr>\n",
              "    <tr>\n",
              "      <th>63</th>\n",
              "      <td>M</td>\n",
              "      <td>75</td>\n",
              "      <td>82</td>\n",
              "      <td>23.69</td>\n",
              "      <td>25.80</td>\n",
              "    </tr>\n",
              "    <tr>\n",
              "      <th>64</th>\n",
              "      <td>F</td>\n",
              "      <td>42</td>\n",
              "      <td>49</td>\n",
              "      <td>15.08</td>\n",
              "      <td>17.74</td>\n",
              "    </tr>\n",
              "    <tr>\n",
              "      <th>65</th>\n",
              "      <td>M</td>\n",
              "      <td>74</td>\n",
              "      <td>82</td>\n",
              "      <td>22.64</td>\n",
              "      <td>25.33</td>\n",
              "    </tr>\n",
              "    <tr>\n",
              "      <th>66</th>\n",
              "      <td>M</td>\n",
              "      <td>94</td>\n",
              "      <td>105</td>\n",
              "      <td>36.57</td>\n",
              "      <td>40.86</td>\n",
              "    </tr>\n",
              "  </tbody>\n",
              "</table>\n",
              "<p>67 rows × 5 columns</p>\n",
              "</div>"
            ],
            "text/plain": [
              "   Sex   \"Weight (Sep)\"   \"Weight (Apr)\"   \"BMI (Sep)\"   \"BMI (Apr)\"\n",
              "0    M               72               59         22.02         18.14\n",
              "1    M               97               86         19.70         17.44\n",
              "2    M               74               69         24.09         22.43\n",
              "3    M               93               88         26.97         25.57\n",
              "4    F               68               64         21.51         20.10\n",
              "..  ..              ...              ...           ...           ...\n",
              "62   M               65               71         22.51         24.45\n",
              "63   M               75               82         23.69         25.80\n",
              "64   F               42               49         15.08         17.74\n",
              "65   M               74               82         22.64         25.33\n",
              "66   M               94              105         36.57         40.86\n",
              "\n",
              "[67 rows x 5 columns]"
            ]
          },
          "metadata": {
            "tags": []
          },
          "execution_count": 31
        }
      ]
    },
    {
      "cell_type": "code",
      "metadata": {
        "colab": {
          "base_uri": "https://localhost:8080/"
        },
        "id": "vERAWBc3f1sn",
        "outputId": "8471c321-f7b7-4437-cb9f-66781b4eb723"
      },
      "source": [
        "#Pisanie plików CSV z pomocą PANDAS\r\n",
        "#Zamiana indexu\r\n",
        "df = pd.read_csv('csv_file/freshman_kgs.csv', \r\n",
        "            index_col='\"Weight (Sep)\"', \r\n",
        "            parse_dates=['\"Weight (Sep)\"'],\r\n",
        "            header=1, \r\n",
        "            names=['Sex',\t'\"Weight (Sep)\"',\t'\"Weight (Apr)\"',\t'\"BMI (Sep)\"',\t'\"BMI (Apr)\"'])\r\n",
        "df.to_csv('csv_file/freshman_modified.csv')\r\n",
        "\r\n",
        "print(pd.read_csv('csv_file/freshman_modified.csv'))"
      ],
      "execution_count": 42,
      "outputs": [
        {
          "output_type": "stream",
          "text": [
            "    \"Weight (Sep)\" Sex  \"Weight (Apr)\"  \"BMI (Sep)\"  \"BMI (Apr)\"\n",
            "0               97   M              86        19.70        17.44\n",
            "1               74   M              69        24.09        22.43\n",
            "2               93   M              88        26.97        25.57\n",
            "3               68   F              64        21.51        20.10\n",
            "4               59   M              55        18.69        17.40\n",
            "..             ...  ..             ...          ...          ...\n",
            "61              65   M              71        22.51        24.45\n",
            "62              75   M              82        23.69        25.80\n",
            "63              42   F              49        15.08        17.74\n",
            "64              74   M              82        22.64        25.33\n",
            "65              94   M             105        36.57        40.86\n",
            "\n",
            "[66 rows x 5 columns]\n"
          ],
          "name": "stdout"
        }
      ]
    }
  ]
}