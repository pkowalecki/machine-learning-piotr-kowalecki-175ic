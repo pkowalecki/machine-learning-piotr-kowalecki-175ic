{
  "nbformat": 4,
  "nbformat_minor": 0,
  "metadata": {
    "colab": {
      "name": "W8_json.ipynb",
      "provenance": [],
      "collapsed_sections": [],
      "authorship_tag": "ABX9TyOpyANUemhqp+pFohJ5SgWx",
      "include_colab_link": true
    },
    "kernelspec": {
      "name": "python3",
      "display_name": "Python 3"
    }
  },
  "cells": [
    {
      "cell_type": "markdown",
      "metadata": {
        "id": "view-in-github",
        "colab_type": "text"
      },
      "source": [
        "<a href=\"https://colab.research.google.com/github/pkowalecki/machine-learning-piotr-kowalecki-175ic/blob/main/W8/W8_json.ipynb\" target=\"_parent\"><img src=\"https://colab.research.google.com/assets/colab-badge.svg\" alt=\"Open In Colab\"/></a>"
      ]
    },
    {
      "cell_type": "code",
      "metadata": {
        "id": "daa5rWzwpau4"
      },
      "source": [
        "import json\r\n",
        "import requests"
      ],
      "execution_count": null,
      "outputs": []
    },
    {
      "cell_type": "code",
      "metadata": {
        "id": "EVqxwGjHqIh5",
        "colab": {
          "base_uri": "https://localhost:8080/",
          "height": 35
        },
        "outputId": "09bcd6ac-2afa-49ce-fdd8-3b3c2205c951"
      },
      "source": [
        "#Prosta serializacja\r\n",
        "data = {\r\n",
        "    \"student\": {\r\n",
        "        \"name\": \"Piotr Kowalecki\",\r\n",
        "        \"group\": \"175IC_B1\"\r\n",
        "    }\r\n",
        "}\r\n",
        "\r\n",
        "#Zapisanie do pliku data_file o rozszerzeniu JSON\r\n",
        "with open(\"json_file/data_file.json\", \"w\") as write_file:\r\n",
        "  json.dump(data, write_file)\r\n",
        "\r\n",
        "\r\n",
        "json.dumps(data)"
      ],
      "execution_count": 33,
      "outputs": [
        {
          "output_type": "execute_result",
          "data": {
            "application/vnd.google.colaboratory.intrinsic+json": {
              "type": "string"
            },
            "text/plain": [
              "'{\"student\": {\"name\": \"Piotr Kowalecki\", \"group\": \"175IC_B1\"}}'"
            ]
          },
          "metadata": {
            "tags": []
          },
          "execution_count": 33
        }
      ]
    },
    {
      "cell_type": "code",
      "metadata": {
        "colab": {
          "base_uri": "https://localhost:8080/",
          "height": 35
        },
        "id": "d6-F9WJPrzJF",
        "outputId": "9ae176e9-b407-4363-ee3b-377afd5ef4c7"
      },
      "source": [
        "#Dodanie wycięć w wyświetlaniu danych\r\n",
        "json.dumps(data, indent=3)"
      ],
      "execution_count": 34,
      "outputs": [
        {
          "output_type": "execute_result",
          "data": {
            "application/vnd.google.colaboratory.intrinsic+json": {
              "type": "string"
            },
            "text/plain": [
              "'{\\n   \"student\": {\\n      \"name\": \"Piotr Kowalecki\",\\n      \"group\": \"175IC_B1\"\\n   }\\n}'"
            ]
          },
          "metadata": {
            "tags": []
          },
          "execution_count": 34
        }
      ]
    },
    {
      "cell_type": "code",
      "metadata": {
        "colab": {
          "base_uri": "https://localhost:8080/"
        },
        "id": "KI0LKJXZr9bd",
        "outputId": "3c00d38f-00ba-4912-e366-56946b288590"
      },
      "source": [
        "#Deserializacja z pliku\r\n",
        "with open(\"json_file/data_file_deserialization.json\", \"r\") as read_file:\r\n",
        "    data = json.load(read_file)\r\n",
        "data"
      ],
      "execution_count": 35,
      "outputs": [
        {
          "output_type": "execute_result",
          "data": {
            "text/plain": [
              "{'student': {'group': '175IC_B1',\n",
              "  'name': 'Piotr Kowalecki',\n",
              "  'type': 'deserialization'}}"
            ]
          },
          "metadata": {
            "tags": []
          },
          "execution_count": 35
        }
      ]
    },
    {
      "cell_type": "code",
      "metadata": {
        "id": "gcTO0mz0tbT1"
      },
      "source": [
        "#Deserializacja z URL\r\n",
        "response = requests.get(\"https://jsonplaceholder.typicode.com/todos\")\r\n",
        "todos = json.loads(response.text)\r\n",
        "todos"
      ],
      "execution_count": null,
      "outputs": []
    },
    {
      "cell_type": "code",
      "metadata": {
        "colab": {
          "base_uri": "https://localhost:8080/"
        },
        "id": "vEoSNKfEuKh5",
        "outputId": "8484d500-602b-4454-a6e9-b7d1d5da084c"
      },
      "source": [
        "#Wyświetlanie ukończonych zadań\r\n",
        "todos_by_user = {}\r\n",
        "\r\n",
        "for todo in todos:\r\n",
        "  if todo[\"completed\"]:\r\n",
        "    try:\r\n",
        "      todos_by_user[todo[\"userId\"]] += 1\r\n",
        "    except KeyError:\r\n",
        "      todos_by_user[todo[\"userId\"]] = 1\r\n",
        "\r\n",
        "top_users = sorted(todos_by_user.items(), \r\n",
        "                   key=lambda x: x[1], reverse=True)\r\n",
        "\r\n",
        "print(f'Top postów: {top_users}')\r\n",
        "\r\n",
        "max_complete = top_users[0][1]\r\n",
        "users = []\r\n",
        "for user, num_complete in top_users:\r\n",
        "    if num_complete < max_complete:\r\n",
        "        break\r\n",
        "    users.append(str(user))\r\n",
        "\r\n",
        "max_users = \" and \".join(users)\r\n",
        "\r\n",
        "print(f'Osoby które ukończyły wszystkie taski: {max_users}')"
      ],
      "execution_count": 38,
      "outputs": [
        {
          "output_type": "stream",
          "text": [
            "Top postów: [(5, 12), (10, 12), (1, 11), (8, 11), (7, 9), (2, 8), (9, 8), (3, 7), (4, 6), (6, 6)]\n",
            "Osoby które ukończyły wszystkie taski: 5 and 10\n"
          ],
          "name": "stdout"
        }
      ]
    },
    {
      "cell_type": "code",
      "metadata": {
        "colab": {
          "base_uri": "https://localhost:8080/"
        },
        "id": "1ithjZIlwLQE",
        "outputId": "ab8979b7-a53f-4fc2-9478-2530cc09ea3a"
      },
      "source": [
        "#Funkcja filtrująca ukończone zadania przez topowe ID \r\n",
        "def keep(todo):\r\n",
        "    is_complete = todo[\"completed\"]\r\n",
        "    has_max_count = str(todo[\"userId\"]) in users\r\n",
        "    return is_complete and has_max_count\r\n",
        "\r\n",
        "#Zapis danych do JSON\r\n",
        "with open(\"json_file/filtered_data_file.json\", \"w\") as data_file:\r\n",
        "    filtered_todos = list(filter(keep, todos))\r\n",
        "    json.dump(filtered_todos, data_file, indent=2)\r\n",
        "\r\n",
        "filtered_todos"
      ],
      "execution_count": 40,
      "outputs": [
        {
          "output_type": "execute_result",
          "data": {
            "text/plain": [
              "[{'completed': True, 'id': 81, 'title': 'suscipit qui totam', 'userId': 5},\n",
              " {'completed': True,\n",
              "  'id': 83,\n",
              "  'title': 'quidem at rerum quis ex aut sit quam',\n",
              "  'userId': 5},\n",
              " {'completed': True, 'id': 85, 'title': 'et quia ad iste a', 'userId': 5},\n",
              " {'completed': True,\n",
              "  'id': 86,\n",
              "  'title': 'incidunt ut saepe autem',\n",
              "  'userId': 5},\n",
              " {'completed': True,\n",
              "  'id': 87,\n",
              "  'title': 'laudantium quae eligendi consequatur quia et vero autem',\n",
              "  'userId': 5},\n",
              " {'completed': True, 'id': 89, 'title': 'sequi ut omnis et', 'userId': 5},\n",
              " {'completed': True,\n",
              "  'id': 90,\n",
              "  'title': 'molestiae nisi accusantium tenetur dolorem et',\n",
              "  'userId': 5},\n",
              " {'completed': True,\n",
              "  'id': 91,\n",
              "  'title': 'nulla quis consequatur saepe qui id expedita',\n",
              "  'userId': 5},\n",
              " {'completed': True, 'id': 92, 'title': 'in omnis laboriosam', 'userId': 5},\n",
              " {'completed': True,\n",
              "  'id': 93,\n",
              "  'title': 'odio iure consequatur molestiae quibusdam necessitatibus quia sint',\n",
              "  'userId': 5},\n",
              " {'completed': True,\n",
              "  'id': 95,\n",
              "  'title': 'vel nihil et molestiae iusto assumenda nemo quo ut',\n",
              "  'userId': 5},\n",
              " {'completed': True,\n",
              "  'id': 98,\n",
              "  'title': 'debitis accusantium ut quo facilis nihil quis sapiente necessitatibus',\n",
              "  'userId': 5},\n",
              " {'completed': True,\n",
              "  'id': 182,\n",
              "  'title': 'inventore saepe cumque et aut illum enim',\n",
              "  'userId': 10},\n",
              " {'completed': True,\n",
              "  'id': 183,\n",
              "  'title': 'omnis nulla eum aliquam distinctio',\n",
              "  'userId': 10},\n",
              " {'completed': True, 'id': 188, 'title': 'vel non beatae est', 'userId': 10},\n",
              " {'completed': True,\n",
              "  'id': 189,\n",
              "  'title': 'culpa eius et voluptatem et',\n",
              "  'userId': 10},\n",
              " {'completed': True,\n",
              "  'id': 190,\n",
              "  'title': 'accusamus sint iusto et voluptatem exercitationem',\n",
              "  'userId': 10},\n",
              " {'completed': True,\n",
              "  'id': 191,\n",
              "  'title': 'temporibus atque distinctio omnis eius impedit tempore molestias pariatur',\n",
              "  'userId': 10},\n",
              " {'completed': True,\n",
              "  'id': 193,\n",
              "  'title': 'rerum debitis voluptatem qui eveniet tempora distinctio a',\n",
              "  'userId': 10},\n",
              " {'completed': True,\n",
              "  'id': 195,\n",
              "  'title': 'rerum ex veniam mollitia voluptatibus pariatur',\n",
              "  'userId': 10},\n",
              " {'completed': True,\n",
              "  'id': 196,\n",
              "  'title': 'consequuntur aut ut fugit similique',\n",
              "  'userId': 10},\n",
              " {'completed': True,\n",
              "  'id': 197,\n",
              "  'title': 'dignissimos quo nobis earum saepe',\n",
              "  'userId': 10},\n",
              " {'completed': True,\n",
              "  'id': 198,\n",
              "  'title': 'quis eius est sint explicabo',\n",
              "  'userId': 10},\n",
              " {'completed': True,\n",
              "  'id': 199,\n",
              "  'title': 'numquam repellendus a magnam',\n",
              "  'userId': 10}]"
            ]
          },
          "metadata": {
            "tags": []
          },
          "execution_count": 40
        }
      ]
    },
    {
      "cell_type": "code",
      "metadata": {
        "colab": {
          "base_uri": "https://localhost:8080/",
          "height": 35
        },
        "id": "wX3QKbJUxWNd",
        "outputId": "d05f2731-d3d0-458b-8b1e-c9fe74546d68"
      },
      "source": [
        "#Kodowanie i dekodowanie niestandardowych obiektów Pythona\r\n",
        "def encode_complex(z):\r\n",
        "    if isinstance(z, complex):\r\n",
        "        return (z.real, z.imag)\r\n",
        "    else:\r\n",
        "        type_name = z.__class__.__name__\r\n",
        "        raise TypeError(f\"Object of type '{type_name}' is not JSON serializable\")\r\n",
        "json.dumps(9 + 5j, default=encode_complex)"
      ],
      "execution_count": 45,
      "outputs": [
        {
          "output_type": "execute_result",
          "data": {
            "application/vnd.google.colaboratory.intrinsic+json": {
              "type": "string"
            },
            "text/plain": [
              "'[9.0, 5.0]'"
            ]
          },
          "metadata": {
            "tags": []
          },
          "execution_count": 45
        }
      ]
    },
    {
      "cell_type": "code",
      "metadata": {
        "colab": {
          "base_uri": "https://localhost:8080/"
        },
        "id": "gb2nWkKjy3XS",
        "outputId": "2ef54df1-ba4d-48ac-8e31-fbbbf3aabf6c"
      },
      "source": [
        "#Kodowanie z pomocą JSONEncoder\r\n",
        "class ComplexEncoder(json.JSONEncoder):\r\n",
        "    def default(self, z):\r\n",
        "        if isinstance(z, complex):\r\n",
        "            return (z.real, z.imag)\r\n",
        "        else:\r\n",
        "            return super().default(z)\r\n",
        "\r\n",
        "#Przykładowe wywołania kodowania powyżej\r\n",
        "print(f'json.dumps: {json.dumps(2 + 6j, cls=ComplexEncoder)}')\r\n",
        "encoder = ComplexEncoder()\r\n",
        "print(f'encoder.encode: {encoder.encode(3 + 6j)}')\r\n",
        "\r\n",
        "#Dekodowanie typów niestandardowych\r\n",
        "complex_json = json.dumps(4 + 17j, cls=ComplexEncoder)\r\n",
        "print(f'json.loads: {json.loads(complex_json)}')"
      ],
      "execution_count": 56,
      "outputs": [
        {
          "output_type": "stream",
          "text": [
            "json.dumps: [2.0, 6.0]\n",
            "encoder.encode: [3.0, 6.0]\n",
            "json.loads: [4.0, 17.0]\n"
          ],
          "name": "stdout"
        }
      ]
    },
    {
      "cell_type": "code",
      "metadata": {
        "colab": {
          "base_uri": "https://localhost:8080/"
        },
        "id": "wQ_DBDkY1ajI",
        "outputId": "10829e72-c3a3-4a48-b3e1-c961e923850a"
      },
      "source": [
        "#Dekodowanie klucza - definicja oraz odkodowanie\r\n",
        "def decode_complex(dct):\r\n",
        "    if \"__complex__\" in dct:\r\n",
        "        return complex(dct[\"real\"], dct[\"imag\"])\r\n",
        "    return dct\r\n",
        "\r\n",
        "with open(\"json_file/complex_data.json\") as complex_data:\r\n",
        "     data = complex_data.read()\r\n",
        "     z = json.loads(data, object_hook=decode_complex)\r\n",
        "\r\n",
        "print(z)"
      ],
      "execution_count": 69,
      "outputs": [
        {
          "output_type": "stream",
          "text": [
            "[(42+36j), (1+1j), (3+5j)]\n"
          ],
          "name": "stdout"
        }
      ]
    }
  ]
}