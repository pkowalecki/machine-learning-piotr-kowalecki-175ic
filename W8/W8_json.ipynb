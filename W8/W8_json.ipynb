{
  "nbformat": 4,
  "nbformat_minor": 0,
  "metadata": {
    "colab": {
      "name": "W8_json.ipynb",
      "provenance": [],
      "collapsed_sections": [],
      "authorship_tag": "ABX9TyN4Z09Zt2rQxJBFfAxzghAZ"
    },
    "kernelspec": {
      "name": "python3",
      "display_name": "Python 3"
    }
  },
  "cells": [
    {
      "cell_type": "code",
      "metadata": {
        "id": "daa5rWzwpau4"
      },
      "source": [
        "import json\r\n",
        "import requests"
      ],
      "execution_count": 2,
      "outputs": []
    },
    {
      "cell_type": "code",
      "metadata": {
        "id": "EVqxwGjHqIh5",
        "colab": {
          "base_uri": "https://localhost:8080/",
          "height": 35
        },
        "outputId": "9d0eed2e-0cf9-4745-e4c2-f14167d3054f"
      },
      "source": [
        "#Prosta serializacja\r\n",
        "data = {\r\n",
        "    \"student\": {\r\n",
        "        \"name\": \"Piotr Kowalecki\",\r\n",
        "        \"group\": \"175IC_B1\"\r\n",
        "    }\r\n",
        "}\r\n",
        "\r\n",
        "#Zapisanie do pliku data_file o rozszerzeniu JSON\r\n",
        "with open(\"json_file/data_file.json\", \"w\") as write_file:\r\n",
        "  json.dump(data, write_file)\r\n",
        "\r\n",
        "\r\n",
        "json.dumps(data)"
      ],
      "execution_count": 4,
      "outputs": [
        {
          "output_type": "execute_result",
          "data": {
            "application/vnd.google.colaboratory.intrinsic+json": {
              "type": "string"
            },
            "text/plain": [
              "'{\"student\": {\"name\": \"Piotr Kowalecki\", \"group\": \"175IC_B1\"}}'"
            ]
          },
          "metadata": {
            "tags": []
          },
          "execution_count": 4
        }
      ]
    },
    {
      "cell_type": "code",
      "metadata": {
        "colab": {
          "base_uri": "https://localhost:8080/",
          "height": 35
        },
        "id": "d6-F9WJPrzJF",
        "outputId": "9992a8af-00be-4031-d8db-9beef6bb062e"
      },
      "source": [
        "#Dodanie wycięć w wyświetlaniu danych\r\n",
        "json.dumps(data, indent=3)"
      ],
      "execution_count": 5,
      "outputs": [
        {
          "output_type": "execute_result",
          "data": {
            "application/vnd.google.colaboratory.intrinsic+json": {
              "type": "string"
            },
            "text/plain": [
              "'{\\n   \"student\": {\\n      \"name\": \"Piotr Kowalecki\",\\n      \"group\": \"175IC_B1\"\\n   }\\n}'"
            ]
          },
          "metadata": {
            "tags": []
          },
          "execution_count": 5
        }
      ]
    },
    {
      "cell_type": "code",
      "metadata": {
        "colab": {
          "base_uri": "https://localhost:8080/"
        },
        "id": "KI0LKJXZr9bd",
        "outputId": "6737a09e-b12c-4ee1-b451-67486a568037"
      },
      "source": [
        "#Deserializacja z pliku\r\n",
        "with open(\"json_file/data_file_deserialization.json\", \"r\") as read_file:\r\n",
        "    data = json.load(read_file)\r\n",
        "data"
      ],
      "execution_count": 9,
      "outputs": [
        {
          "output_type": "execute_result",
          "data": {
            "text/plain": [
              "{'student': {'group': '175IC_B1',\n",
              "  'name': 'Piotr Kowalecki',\n",
              "  'type': 'deserialization'}}"
            ]
          },
          "metadata": {
            "tags": []
          },
          "execution_count": 9
        }
      ]
    },
    {
      "cell_type": "code",
      "metadata": {
        "id": "gcTO0mz0tbT1"
      },
      "source": [
        "#Deserializacja z URL\r\n",
        "response = requests.get(\"https://jsonplaceholder.typicode.com/posts\")\r\n",
        "posts = json.loads(response.text)"
      ],
      "execution_count": 26,
      "outputs": []
    },
    {
      "cell_type": "code",
      "metadata": {
        "colab": {
          "base_uri": "https://localhost:8080/"
        },
        "id": "vEoSNKfEuKh5",
        "outputId": "31156a32-9675-4354-d191-cfbbc5b60293"
      },
      "source": [
        "#Wyświetlanie ukończonych zadań\r\n",
        "posts_by_user = {}\r\n",
        "\r\n",
        "for post in posts:\r\n",
        "  if post[\"id\"]:\r\n",
        "    try:\r\n",
        "      posts_by_user[post[\"userId\"]] += 1\r\n",
        "    except KeyError:\r\n",
        "      posts_by_user[post[\"userId\"]] = 1\r\n",
        "\r\n",
        "top_posts = sorted(posts_by_user.items(), \r\n",
        "                   key=lambda x: x[1], reverse=True)\r\n",
        "\r\n",
        "print(f'Top postów: {top_posts}')\r\n",
        "\r\n",
        "max_complete = top_posts[0][1]\r\n",
        "users = []\r\n",
        "for user, num_complete in top_posts:\r\n",
        "    if num_complete < max_complete:\r\n",
        "        break\r\n",
        "    users.append(str(user))\r\n",
        "\r\n",
        "max_users = \", \".join(users)\r\n",
        "\r\n",
        "print(f'ID osób które mają najwięcej postów: {max_users}')"
      ],
      "execution_count": 38,
      "outputs": [
        {
          "output_type": "stream",
          "text": [
            "Top postów: [(1, 10), (2, 10), (3, 10), (4, 10), (5, 10), (6, 10), (7, 10), (8, 10), (9, 10), (10, 10)]\n",
            "ID osób które mają najwięcej postów: 1, 2, 3, 4, 5, 6, 7, 8, 9, 10\n"
          ],
          "name": "stdout"
        }
      ]
    },
    {
      "cell_type": "code",
      "metadata": {
        "id": "1ithjZIlwLQE"
      },
      "source": [
        "#Funkcja wypisująca posty osób, które mają ich najwięcej (niestety api ma podzielone po równo)\r\n",
        "def keep(post):\r\n",
        "    is_complete = post[\"id\"]\r\n",
        "    has_max_count = str(post[\"userId\"]) in users\r\n",
        "    return is_complete and has_max_count\r\n",
        "\r\n",
        "#Zapis danych do JSON\r\n",
        "with open(\"json_file/filtered_data_file.json\", \"w\") as data_file:\r\n",
        "    filtered_posts = list(filter(keep, posts))\r\n",
        "    json.dump(filtered_posts, data_file, indent=2)\r\n",
        "\r\n",
        "filtered_posts"
      ],
      "execution_count": null,
      "outputs": []
    },
    {
      "cell_type": "code",
      "metadata": {
        "colab": {
          "base_uri": "https://localhost:8080/",
          "height": 35
        },
        "id": "wX3QKbJUxWNd",
        "outputId": "128f5fbc-2cde-4acb-8751-76eb43356a4a"
      },
      "source": [
        "#Kodowanie i dekodowanie niestandardowych obiektów Pythona\r\n",
        "def encode_complex(z):\r\n",
        "    if isinstance(z, complex):\r\n",
        "        return (z.real, z.imag)\r\n",
        "    else:\r\n",
        "        type_name = z.__class__.__name__\r\n",
        "        raise TypeError(f\"Object of type '{type_name}' is not JSON serializable\")\r\n",
        "json.dumps(9 + 5j, default=encode_complex)"
      ],
      "execution_count": 46,
      "outputs": [
        {
          "output_type": "execute_result",
          "data": {
            "application/vnd.google.colaboratory.intrinsic+json": {
              "type": "string"
            },
            "text/plain": [
              "'[9.0, 5.0]'"
            ]
          },
          "metadata": {
            "tags": []
          },
          "execution_count": 46
        }
      ]
    },
    {
      "cell_type": "code",
      "metadata": {
        "colab": {
          "base_uri": "https://localhost:8080/"
        },
        "id": "gb2nWkKjy3XS",
        "outputId": "f3d14240-ae22-4432-ceba-7b0cf85cb498"
      },
      "source": [
        "#Kodowanie z pomocą JSONEncoder\r\n",
        "class ComplexEncoder(json.JSONEncoder):\r\n",
        "    def default(self, z):\r\n",
        "        if isinstance(z, complex):\r\n",
        "            return (z.real, z.imag)\r\n",
        "        else:\r\n",
        "            return super().default(z)\r\n",
        "\r\n",
        "#Przykładowe wywołania kodowania powyżej\r\n",
        "print(f'json.dumps: {json.dumps(2 + 6j, cls=ComplexEncoder)}')\r\n",
        "encoder = ComplexEncoder()\r\n",
        "print(f'encoder.encode: {encoder.encode(3 + 6j)}')\r\n",
        "\r\n",
        "#Dekodowanie typów niestandardowych\r\n",
        "complex_json = json.dumps(4 + 17j, cls=ComplexEncoder)\r\n",
        "print(f'json.loads: {json.loads(complex_json)}')"
      ],
      "execution_count": 47,
      "outputs": [
        {
          "output_type": "stream",
          "text": [
            "json.dumps: [2.0, 6.0]\n",
            "encoder.encode: [3.0, 6.0]\n",
            "json.loads: [4.0, 17.0]\n"
          ],
          "name": "stdout"
        }
      ]
    },
    {
      "cell_type": "code",
      "metadata": {
        "colab": {
          "base_uri": "https://localhost:8080/"
        },
        "id": "wQ_DBDkY1ajI",
        "outputId": "dd00d009-03a4-4ab8-ea68-4f4ed953b1be"
      },
      "source": [
        "#Dekodowanie klucza - definicja oraz odkodowanie\r\n",
        "def decode_complex(dct):\r\n",
        "    if \"__complex__\" in dct:\r\n",
        "        return complex(dct[\"real\"], dct[\"imag\"])\r\n",
        "    return dct\r\n",
        "\r\n",
        "with open(\"json_file/complex_data.json\") as complex_data:\r\n",
        "     data = complex_data.read()\r\n",
        "     z = json.loads(data, object_hook=decode_complex)\r\n",
        "\r\n",
        "print(z)"
      ],
      "execution_count": 49,
      "outputs": [
        {
          "output_type": "stream",
          "text": [
            "[(42+36j), (64+11j), 0j]\n"
          ],
          "name": "stdout"
        }
      ]
    }
  ]
}