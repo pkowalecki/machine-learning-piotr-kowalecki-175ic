{
  "nbformat": 4,
  "nbformat_minor": 0,
  "metadata": {
    "colab": {
      "name": "W9.ipynb",
      "provenance": [],
      "collapsed_sections": [],
      "authorship_tag": "ABX9TyPWpqZV3vRC31q9M2HNIbu/"
    },
    "kernelspec": {
      "name": "python3",
      "display_name": "Python 3"
    }
  },
  "cells": [
    {
      "cell_type": "code",
      "metadata": {
        "id": "ivJe7nmrMw_S"
      },
      "source": [
        "#Praca z obrazami - OpenCV + Python"
      ],
      "execution_count": null,
      "outputs": []
    },
    {
      "cell_type": "code",
      "metadata": {
        "id": "y0_hTA3ZNDe7"
      },
      "source": [
        "import imutils\r\n",
        "import cv2\r\n",
        "from google.colab.patches import cv2_imshow"
      ],
      "execution_count": null,
      "outputs": []
    },
    {
      "cell_type": "code",
      "metadata": {
        "id": "ZnCzZSzbNHUw"
      },
      "source": [
        "#Ładowanie i wyświetlanie obrazu\r\n",
        "\r\n",
        "image = cv2.imread(\"images/car1.jpg\")\r\n",
        "(h, w, d) = image.shape\r\n",
        "print(\"width={}, height={}, depth={}\".format(w, h, d))\r\n",
        "\r\n",
        "#Wyświetlanie obrazu\r\n",
        "cv2_imshow(image)"
      ],
      "execution_count": null,
      "outputs": []
    },
    {
      "cell_type": "code",
      "metadata": {
        "colab": {
          "base_uri": "https://localhost:8080/"
        },
        "id": "VWp9m_ehPb6Y",
        "outputId": "71eb7886-071b-4aac-86d0-a944845a99a5"
      },
      "source": [
        "#Otrzymywanie danych na temat poszczególnego piksela\r\n",
        "(B, G, R) = image[150, 150]\r\n",
        "print(\"R={}, G={}, B={}\".format(R, G, B))"
      ],
      "execution_count": null,
      "outputs": [
        {
          "output_type": "stream",
          "text": [
            "R=142, G=131, B=101\n"
          ],
          "name": "stdout"
        }
      ]
    },
    {
      "cell_type": "code",
      "metadata": {
        "id": "qlEbnQKiPyqi"
      },
      "source": [
        "#Przycinanie obrazu\r\n",
        "crop = image[600:1600, 1000:2600]\r\n",
        "cv2.imwrite(\"images/crop-car1.jpg\", crop)\r\n",
        "cv2_imshow(crop)"
      ],
      "execution_count": null,
      "outputs": []
    },
    {
      "cell_type": "code",
      "metadata": {
        "id": "qysn2yACRuvQ"
      },
      "source": [
        "#Prosta zmiana rozmiaru obrazu\r\n",
        "resized = cv2.resize(image, (300, 300))\r\n",
        "cv2.imwrite(\"images/resized-car1.jpg\", resized)\r\n",
        "cv2_imshow(resized)"
      ],
      "execution_count": null,
      "outputs": []
    },
    {
      "cell_type": "code",
      "metadata": {
        "id": "pbpjciEQS7ul"
      },
      "source": [
        "#Poprawiona zmiana rozmiaru obrazu\r\n",
        "r = 300.0 / w\r\n",
        "dim = (300, int(h * r))\r\n",
        "fixed_resized = cv2.resize(image, dim)\r\n",
        "cv2.imwrite(\"images/fixed-resized-car1.jpg\",fixed_resized)\r\n",
        "cv2_imshow(fixed_resized)"
      ],
      "execution_count": null,
      "outputs": []
    },
    {
      "cell_type": "code",
      "metadata": {
        "id": "ihrLjEi8T8OG"
      },
      "source": [
        "#Zmiana roziaru obrazu z wykorzystaniem imutils\r\n",
        "imutils_fixed_resized = imutils.resize(image, width=300)\r\n",
        "cv2.imwrite(\"images/imutils-resized-car1.jpg\", imutils_fixed_resized)\r\n",
        "cv2_imshow(imutils_fixed_resized)"
      ],
      "execution_count": null,
      "outputs": []
    },
    {
      "cell_type": "code",
      "metadata": {
        "id": "uKQdanZoUZi7"
      },
      "source": [
        "#Obracanie obrazu\r\n",
        "center = (w // 2, h // 2)\r\n",
        "M = cv2.getRotationMatrix2D(center, -45, 1.0)\r\n",
        "rotated = cv2.warpAffine(image, M, (w, h))\r\n",
        "cv2.imwrite(\"images/rotated-car1.jpg\", rotated)\r\n",
        "cv2_imshow(rotated)"
      ],
      "execution_count": null,
      "outputs": []
    },
    {
      "cell_type": "code",
      "metadata": {
        "id": "Fhr1j233U8jK"
      },
      "source": [
        "#Obracanie obrazu z użyciem imutils\r\n",
        "imutils_rotated = imutils.rotate(image, -45)\r\n",
        "cv2.imwrite(\"images/imutils-rotated-car1.jpg\", imutils_rotated)\r\n",
        "cv2_imshow(imutils_rotated)"
      ],
      "execution_count": null,
      "outputs": []
    },
    {
      "cell_type": "code",
      "metadata": {
        "id": "bxPYB6pQVZvX"
      },
      "source": [
        "#Obracanie obrazu z użyciem imutils.rotate_bound. Obracanie uwzględnia skalowanie obrazu\r\n",
        "rotated_bound = imutils.rotate_bound(image, 45)\r\n",
        "cv2.imwrite(\"images/rotated-bound-car1.jpg\", rotated_bound)\r\n",
        "cv2_imshow(rotated_bound)"
      ],
      "execution_count": null,
      "outputs": []
    },
    {
      "cell_type": "code",
      "metadata": {
        "id": "LfrwWj8dV_Dz"
      },
      "source": [
        "#Rozmycie obrazu\r\n",
        "blurred = cv2.GaussianBlur(image, (77, 77), 0)\r\n",
        "cv2.imwrite(\"image/blurred-car1.jpg\", blurred)\r\n",
        "cv2_imshow(blurred)"
      ],
      "execution_count": null,
      "outputs": []
    },
    {
      "cell_type": "code",
      "metadata": {
        "id": "KUxO99I_WdHn"
      },
      "source": [
        "#Rysowanie na obrazie - kwadrat\r\n",
        "output = image.copy()\r\n",
        "cv2.rectangle(output, (500, 960),(880, 1160), (0, 0, 255), 2)\r\n",
        "cv2.imwrite(\"images/drawing-car1.jpg\", output)\r\n",
        "cv2_imshow(output)"
      ],
      "execution_count": null,
      "outputs": []
    },
    {
      "cell_type": "code",
      "metadata": {
        "id": "jNjnAeA1WiNu"
      },
      "source": [
        "#Rysowanie na obrazie - orkąg\r\n",
        "output_2 = image.copy()\r\n",
        "cv2.circle(output_2, (1500, 1160), 200, (255, 0, 255), 2)\r\n",
        "cv2.imwrite(\"image/drawing-circle-car1.jpg\", output_2)\r\n",
        "cv2_imshow(output_2)"
      ],
      "execution_count": null,
      "outputs": []
    },
    {
      "cell_type": "code",
      "metadata": {
        "id": "aH7NERQtmZS3"
      },
      "source": [
        "#Rysowanie na obrazie - linia\r\n",
        "output_3 = image.copy()\r\n",
        "cv2.line(output_3, (120, 660), (1200, 660), (255, 0, 255), 10)\r\n",
        "cv2.imwrite(\"image/drawing-line-car1.jpg\", output_3)\r\n",
        "cv2_imshow(output_3)"
      ],
      "execution_count": null,
      "outputs": []
    },
    {
      "cell_type": "code",
      "metadata": {
        "id": "IPFtM1iWmdEZ"
      },
      "source": [
        "#Dodanie napisu do obrazu\r\n",
        "output_4 = image.copy()\r\n",
        "cv2.putText(output_4, \"OpenCV + Old car\", (100, 250), \r\n",
        "\tcv2.FONT_HERSHEY_SIMPLEX, 5, (0, 0, 0), 2)\r\n",
        "cv2.imwrite(\"image/text-car1.jpg\", output_4)\r\n",
        "cv2_imshow(output_4)"
      ],
      "execution_count": null,
      "outputs": []
    },
    {
      "cell_type": "code",
      "metadata": {
        "id": "r2_KKWilmh8H"
      },
      "source": [
        "image2 = cv2.imread(\"images/car2.jpg\")\r\n",
        "gray = cv2.cvtColor(image2, cv2.COLOR_BGR2GRAY)\r\n",
        "cv2_imshow(image2)\r\n",
        "cv2.imwrite(\"images/car2-gray.jpg\", image2)\r\n",
        "cv2_imshow(gray)"
      ],
      "execution_count": null,
      "outputs": []
    },
    {
      "cell_type": "code",
      "metadata": {
        "id": "whdw5IfwmnIR"
      },
      "source": [
        "#Wykrywanie krawędzi\r\n",
        "edged = cv2.Canny(gray, 150, 150)\r\n",
        "cv2.imwrite(\"images/car2-edged.jpg\", edged)\r\n",
        "cv2_imshow(edged)"
      ],
      "execution_count": null,
      "outputs": []
    },
    {
      "cell_type": "code",
      "metadata": {
        "id": "SNZb3peemo_U"
      },
      "source": [
        "#Progowanie - wyznaczanie poziomu jasności dla zdjęcia\r\n",
        "thresholding = cv2.threshold(gray, 60, 1000, cv2.THRESH_BINARY_INV)[1]\r\n",
        "cv2.imwrite(\"images/threshold-car2.jpg\", thresholding)\r\n",
        "cv2_imshow(thresholding)"
      ],
      "execution_count": null,
      "outputs": []
    },
    {
      "cell_type": "code",
      "metadata": {
        "id": "uaYVoQovnAeG"
      },
      "source": [
        "#Znajdowanie oraz oznaczanie kontur\r\n",
        "cnts = cv2.findContours(thresholding.copy(), cv2.RETR_EXTERNAL,\r\n",
        "\tcv2.CHAIN_APPROX_SIMPLE)\r\n",
        "cnts = imutils.grab_contours(cnts)\r\n",
        "output_5 = image2.copy()\r\n",
        "\r\n",
        "for c in cnts:\r\n",
        "  cv2.drawContours(output_5, [c], -1, (240, 0, 159), 10)\r\n",
        "  \r\n",
        "cv2.imwrite(\"images/car2-drawContours.jpg\", output_5)\r\n",
        "cv2_imshow(output_5)"
      ],
      "execution_count": null,
      "outputs": []
    },
    {
      "cell_type": "code",
      "metadata": {
        "id": "NB6ngKKonect"
      },
      "source": [
        "#Erozje i dylatacje\r\n",
        "mask = thresholding.copy()\r\n",
        "mask_2 = thresholding.copy()\r\n",
        "mask = cv2.erode(mask, None, iterations=2)\r\n",
        "mask_2 = cv2.dilate(mask_2, None, iterations=5)\r\n",
        "cv2.imwrite(\"images/car2-eroded.jpg\", mask)\r\n",
        "cv2.imwrite(\"images/car2-eroded.jpg\", mask_2)\r\n",
        "cv2_imshow(mask)\r\n",
        "cv2_imshow(mask_2)"
      ],
      "execution_count": null,
      "outputs": []
    },
    {
      "cell_type": "code",
      "metadata": {
        "id": "YqXEMIvXniJ6"
      },
      "source": [
        "#Operacje maskujące i bitowe\r\n",
        "mask_3 = thresholding.copy()\r\n",
        "output_6 = cv2.bitwise_and(image2, image2, mask=mask)\r\n",
        "cv2.imwrite(\"images/car2-mask.jpg\", output_6)\r\n",
        "cv2_imshow(output_6)"
      ],
      "execution_count": null,
      "outputs": []
    }
  ]
}