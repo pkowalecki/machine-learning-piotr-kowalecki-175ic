{
 "metadata": {
  "language_info": {
   "codemirror_mode": {
    "name": "ipython",
    "version": 3
   },
   "file_extension": ".py",
   "mimetype": "text/x-python",
   "name": "python",
   "nbconvert_exporter": "python",
   "pygments_lexer": "ipython3",
   "version": "3.9.0-final"
  },
  "orig_nbformat": 2,
  "kernelspec": {
   "name": "Python 3.9.0 64-bit",
   "display_name": "Python 3.9.0 64-bit",
   "metadata": {
    "interpreter": {
     "hash": "d8c8c486ad5af31a6c39f585044912ae7570670e23c130aba5ccd3027e0443bb"
    }
   }
  }
 },
 "nbformat": 4,
 "nbformat_minor": 2,
 "cells": [
  {
   "cell_type": "code",
   "execution_count": 27,
   "metadata": {},
   "outputs": [],
   "source": [
    "import pandas as pd;\n",
    "\n",
    "#wczytujemy nasz plik z samochodami i przypisujemy go do 'data'\n",
    "pd.read_csv(\"samochody1tys.csv\");\n",
    "data = pd.read_csv(\"samochody1tys.csv\") "
   ]
  },
  {
   "cell_type": "code",
   "execution_count": 3,
   "metadata": {},
   "outputs": [
    {
     "output_type": "execute_result",
     "data": {
      "text/plain": [
       "   id       marka        model  rok_produkcji rodzaj_silnika  \\\n",
       "0   0      Nissan  X-Trail III         2014.0         Diesel   \n",
       "1   1         BMW       X1 E84         2012.0         Diesel   \n",
       "2   2        Opel     Zafira A         2004.0    Benzyna+CNG   \n",
       "3   3     Hyundai        i10 I         2008.0        Benzyna   \n",
       "4   4  Volkswagen           CC         2010.0         Diesel   \n",
       "\n",
       "   pojemnosc_silnika  przebieg     cena     wojewodztwo  \n",
       "0             1600.0  160000.0  75900.0    Dolnośląskie  \n",
       "1             2000.0  149000.0  70900.0  Świętokrzyskie  \n",
       "2             1600.0   99000.0   9800.0        Opolskie  \n",
       "3             1100.0   93000.0  11900.0         Łódzkie  \n",
       "4             1968.0  127428.0  49900.0   Wielkopolskie  "
      ],
      "text/html": "<div>\n<style scoped>\n    .dataframe tbody tr th:only-of-type {\n        vertical-align: middle;\n    }\n\n    .dataframe tbody tr th {\n        vertical-align: top;\n    }\n\n    .dataframe thead th {\n        text-align: right;\n    }\n</style>\n<table border=\"1\" class=\"dataframe\">\n  <thead>\n    <tr style=\"text-align: right;\">\n      <th></th>\n      <th>id</th>\n      <th>marka</th>\n      <th>model</th>\n      <th>rok_produkcji</th>\n      <th>rodzaj_silnika</th>\n      <th>pojemnosc_silnika</th>\n      <th>przebieg</th>\n      <th>cena</th>\n      <th>wojewodztwo</th>\n    </tr>\n  </thead>\n  <tbody>\n    <tr>\n      <th>0</th>\n      <td>0</td>\n      <td>Nissan</td>\n      <td>X-Trail III</td>\n      <td>2014.0</td>\n      <td>Diesel</td>\n      <td>1600.0</td>\n      <td>160000.0</td>\n      <td>75900.0</td>\n      <td>Dolnośląskie</td>\n    </tr>\n    <tr>\n      <th>1</th>\n      <td>1</td>\n      <td>BMW</td>\n      <td>X1 E84</td>\n      <td>2012.0</td>\n      <td>Diesel</td>\n      <td>2000.0</td>\n      <td>149000.0</td>\n      <td>70900.0</td>\n      <td>Świętokrzyskie</td>\n    </tr>\n    <tr>\n      <th>2</th>\n      <td>2</td>\n      <td>Opel</td>\n      <td>Zafira A</td>\n      <td>2004.0</td>\n      <td>Benzyna+CNG</td>\n      <td>1600.0</td>\n      <td>99000.0</td>\n      <td>9800.0</td>\n      <td>Opolskie</td>\n    </tr>\n    <tr>\n      <th>3</th>\n      <td>3</td>\n      <td>Hyundai</td>\n      <td>i10 I</td>\n      <td>2008.0</td>\n      <td>Benzyna</td>\n      <td>1100.0</td>\n      <td>93000.0</td>\n      <td>11900.0</td>\n      <td>Łódzkie</td>\n    </tr>\n    <tr>\n      <th>4</th>\n      <td>4</td>\n      <td>Volkswagen</td>\n      <td>CC</td>\n      <td>2010.0</td>\n      <td>Diesel</td>\n      <td>1968.0</td>\n      <td>127428.0</td>\n      <td>49900.0</td>\n      <td>Wielkopolskie</td>\n    </tr>\n  </tbody>\n</table>\n</div>"
     },
     "metadata": {},
     "execution_count": 3
    }
   ],
   "source": [
    "#Wyświetlenie 5 wszystkich elementów z tabeli\n",
    "data.head(5)"
   ]
  },
  {
   "cell_type": "code",
   "execution_count": 4,
   "metadata": {},
   "outputs": [
    {
     "output_type": "execute_result",
     "data": {
      "text/plain": [
       "      id          marka             model  rok_produkcji rodzaj_silnika  \\\n",
       "238  238  Mercedes-Benz  W124 (1984-1993)         1991.0         Diesel   \n",
       "243  243     Volkswagen          Multivan         1994.0         Diesel   \n",
       "971  971  Mercedes-Benz      Klasa E W211         2003.0         Diesel   \n",
       "989  989            BMW       Seria 5 E39         2002.0         Diesel   \n",
       "82    82  Mercedes-Benz      Klasa E W210         2000.0         Diesel   \n",
       "\n",
       "     pojemnosc_silnika  przebieg     cena         wojewodztwo  \n",
       "238             1997.0  647000.0   4000.0  Zachodniopomorskie  \n",
       "243             2400.0  503000.0  13900.0         Mazowieckie  \n",
       "971             2685.0  441000.0  16900.0            Lubuskie  \n",
       "989             2926.0  404000.0  14900.0        Dolnośląskie  \n",
       "82              2148.0  362653.0   8900.0           Lubelskie  "
      ],
      "text/html": "<div>\n<style scoped>\n    .dataframe tbody tr th:only-of-type {\n        vertical-align: middle;\n    }\n\n    .dataframe tbody tr th {\n        vertical-align: top;\n    }\n\n    .dataframe thead th {\n        text-align: right;\n    }\n</style>\n<table border=\"1\" class=\"dataframe\">\n  <thead>\n    <tr style=\"text-align: right;\">\n      <th></th>\n      <th>id</th>\n      <th>marka</th>\n      <th>model</th>\n      <th>rok_produkcji</th>\n      <th>rodzaj_silnika</th>\n      <th>pojemnosc_silnika</th>\n      <th>przebieg</th>\n      <th>cena</th>\n      <th>wojewodztwo</th>\n    </tr>\n  </thead>\n  <tbody>\n    <tr>\n      <th>238</th>\n      <td>238</td>\n      <td>Mercedes-Benz</td>\n      <td>W124 (1984-1993)</td>\n      <td>1991.0</td>\n      <td>Diesel</td>\n      <td>1997.0</td>\n      <td>647000.0</td>\n      <td>4000.0</td>\n      <td>Zachodniopomorskie</td>\n    </tr>\n    <tr>\n      <th>243</th>\n      <td>243</td>\n      <td>Volkswagen</td>\n      <td>Multivan</td>\n      <td>1994.0</td>\n      <td>Diesel</td>\n      <td>2400.0</td>\n      <td>503000.0</td>\n      <td>13900.0</td>\n      <td>Mazowieckie</td>\n    </tr>\n    <tr>\n      <th>971</th>\n      <td>971</td>\n      <td>Mercedes-Benz</td>\n      <td>Klasa E W211</td>\n      <td>2003.0</td>\n      <td>Diesel</td>\n      <td>2685.0</td>\n      <td>441000.0</td>\n      <td>16900.0</td>\n      <td>Lubuskie</td>\n    </tr>\n    <tr>\n      <th>989</th>\n      <td>989</td>\n      <td>BMW</td>\n      <td>Seria 5 E39</td>\n      <td>2002.0</td>\n      <td>Diesel</td>\n      <td>2926.0</td>\n      <td>404000.0</td>\n      <td>14900.0</td>\n      <td>Dolnośląskie</td>\n    </tr>\n    <tr>\n      <th>82</th>\n      <td>82</td>\n      <td>Mercedes-Benz</td>\n      <td>Klasa E W210</td>\n      <td>2000.0</td>\n      <td>Diesel</td>\n      <td>2148.0</td>\n      <td>362653.0</td>\n      <td>8900.0</td>\n      <td>Lubelskie</td>\n    </tr>\n  </tbody>\n</table>\n</div>"
     },
     "metadata": {},
     "execution_count": 4
    }
   ],
   "source": [
    "#Wyświetlenie 5 pojazdów z najwyższym przebiegiem\n",
    "data.sort_values('przebieg', ascending=False).head(5)"
   ]
  },
  {
   "cell_type": "code",
   "execution_count": 5,
   "metadata": {},
   "outputs": [
    {
     "output_type": "execute_result",
     "data": {
      "text/plain": [
       "   id        mark        model  prod_year  engine_type  engine_capacity  \\\n",
       "0   0      Nissan  X-Trail III     2014.0       Diesel           1600.0   \n",
       "1   1         BMW       X1 E84     2012.0       Diesel           2000.0   \n",
       "2   2        Opel     Zafira A     2004.0  Benzyna+CNG           1600.0   \n",
       "3   3     Hyundai        i10 I     2008.0      Benzyna           1100.0   \n",
       "4   4  Volkswagen           CC     2010.0       Diesel           1968.0   \n",
       "\n",
       "    mileage    price     wojewodztwo  \n",
       "0  160000.0  75900.0    Dolnośląskie  \n",
       "1  149000.0  70900.0  Świętokrzyskie  \n",
       "2   99000.0   9800.0        Opolskie  \n",
       "3   93000.0  11900.0         Łódzkie  \n",
       "4  127428.0  49900.0   Wielkopolskie  "
      ],
      "text/html": "<div>\n<style scoped>\n    .dataframe tbody tr th:only-of-type {\n        vertical-align: middle;\n    }\n\n    .dataframe tbody tr th {\n        vertical-align: top;\n    }\n\n    .dataframe thead th {\n        text-align: right;\n    }\n</style>\n<table border=\"1\" class=\"dataframe\">\n  <thead>\n    <tr style=\"text-align: right;\">\n      <th></th>\n      <th>id</th>\n      <th>mark</th>\n      <th>model</th>\n      <th>prod_year</th>\n      <th>engine_type</th>\n      <th>engine_capacity</th>\n      <th>mileage</th>\n      <th>price</th>\n      <th>wojewodztwo</th>\n    </tr>\n  </thead>\n  <tbody>\n    <tr>\n      <th>0</th>\n      <td>0</td>\n      <td>Nissan</td>\n      <td>X-Trail III</td>\n      <td>2014.0</td>\n      <td>Diesel</td>\n      <td>1600.0</td>\n      <td>160000.0</td>\n      <td>75900.0</td>\n      <td>Dolnośląskie</td>\n    </tr>\n    <tr>\n      <th>1</th>\n      <td>1</td>\n      <td>BMW</td>\n      <td>X1 E84</td>\n      <td>2012.0</td>\n      <td>Diesel</td>\n      <td>2000.0</td>\n      <td>149000.0</td>\n      <td>70900.0</td>\n      <td>Świętokrzyskie</td>\n    </tr>\n    <tr>\n      <th>2</th>\n      <td>2</td>\n      <td>Opel</td>\n      <td>Zafira A</td>\n      <td>2004.0</td>\n      <td>Benzyna+CNG</td>\n      <td>1600.0</td>\n      <td>99000.0</td>\n      <td>9800.0</td>\n      <td>Opolskie</td>\n    </tr>\n    <tr>\n      <th>3</th>\n      <td>3</td>\n      <td>Hyundai</td>\n      <td>i10 I</td>\n      <td>2008.0</td>\n      <td>Benzyna</td>\n      <td>1100.0</td>\n      <td>93000.0</td>\n      <td>11900.0</td>\n      <td>Łódzkie</td>\n    </tr>\n    <tr>\n      <th>4</th>\n      <td>4</td>\n      <td>Volkswagen</td>\n      <td>CC</td>\n      <td>2010.0</td>\n      <td>Diesel</td>\n      <td>1968.0</td>\n      <td>127428.0</td>\n      <td>49900.0</td>\n      <td>Wielkopolskie</td>\n    </tr>\n  </tbody>\n</table>\n</div>"
     },
     "metadata": {},
     "execution_count": 5
    }
   ],
   "source": [
    "#Zmiana nazw kolumn\n",
    "data.rename(columns={\n",
    "    'marka':'mark',\n",
    "    'rok_produkcji': 'prod_year',\n",
    "    'rodzaj_silnika': 'engine_type',\n",
    "    'pojemnosc_silnika': 'engine_capacity',\n",
    "    'przebieg': 'mileage',\n",
    "    'cena': 'price',\n",
    "    'wojewordtwo': 'voivodeship'\n",
    "\n",
    "}).head(5)"
   ]
  },
  {
   "cell_type": "code",
   "execution_count": 6,
   "metadata": {},
   "outputs": [
    {
     "output_type": "execute_result",
     "data": {
      "text/plain": [
       "      id       marka        model  rok_produkcji rodzaj_silnika  \\\n",
       "0      0      Nissan  X-Trail III         2014.0         Diesel   \n",
       "1      1         BMW       X1 E84         2012.0         Diesel   \n",
       "2      2        Opel     Zafira A         2004.0    Benzyna+CNG   \n",
       "3      3     Hyundai        i10 I         2008.0        Benzyna   \n",
       "4      4  Volkswagen           CC         2010.0         Diesel   \n",
       "..   ...         ...          ...            ...            ...   \n",
       "995  995  Alfa Romeo          159         2009.0         Diesel   \n",
       "996  996       Škoda     Fabia II         2012.0        Benzyna   \n",
       "997  997     Renault        Modus         2004.0        Benzyna   \n",
       "998  998        Audi        A3 8L         2000.0        Benzyna   \n",
       "999  999       Volvo      XC 60 I         2016.0         Diesel   \n",
       "\n",
       "     pojemnosc_silnika  przebieg      cena     wojewodztwo  \n",
       "0               1600.0  160000.0   75900.0    Dolnośląskie  \n",
       "1               2000.0  149000.0   70900.0  Świętokrzyskie  \n",
       "2               1600.0   99000.0    9800.0        Opolskie  \n",
       "3               1100.0   93000.0   11900.0         Łódzkie  \n",
       "4               1968.0  127428.0   49900.0   Wielkopolskie  \n",
       "..                 ...       ...       ...             ...  \n",
       "995             2387.0  182000.0   33900.0     Małopolskie  \n",
       "996             1200.0   42700.0   25400.0       Lubelskie  \n",
       "997             1200.0  168111.0   10900.0         Łódzkie  \n",
       "998             1595.0  226500.0    5400.0     Małopolskie  \n",
       "999             1969.0   13617.0  136900.0     Małopolskie  \n",
       "\n",
       "[1000 rows x 9 columns]"
      ],
      "text/html": "<div>\n<style scoped>\n    .dataframe tbody tr th:only-of-type {\n        vertical-align: middle;\n    }\n\n    .dataframe tbody tr th {\n        vertical-align: top;\n    }\n\n    .dataframe thead th {\n        text-align: right;\n    }\n</style>\n<table border=\"1\" class=\"dataframe\">\n  <thead>\n    <tr style=\"text-align: right;\">\n      <th></th>\n      <th>id</th>\n      <th>marka</th>\n      <th>model</th>\n      <th>rok_produkcji</th>\n      <th>rodzaj_silnika</th>\n      <th>pojemnosc_silnika</th>\n      <th>przebieg</th>\n      <th>cena</th>\n      <th>wojewodztwo</th>\n    </tr>\n  </thead>\n  <tbody>\n    <tr>\n      <th>0</th>\n      <td>0</td>\n      <td>Nissan</td>\n      <td>X-Trail III</td>\n      <td>2014.0</td>\n      <td>Diesel</td>\n      <td>1600.0</td>\n      <td>160000.0</td>\n      <td>75900.0</td>\n      <td>Dolnośląskie</td>\n    </tr>\n    <tr>\n      <th>1</th>\n      <td>1</td>\n      <td>BMW</td>\n      <td>X1 E84</td>\n      <td>2012.0</td>\n      <td>Diesel</td>\n      <td>2000.0</td>\n      <td>149000.0</td>\n      <td>70900.0</td>\n      <td>Świętokrzyskie</td>\n    </tr>\n    <tr>\n      <th>2</th>\n      <td>2</td>\n      <td>Opel</td>\n      <td>Zafira A</td>\n      <td>2004.0</td>\n      <td>Benzyna+CNG</td>\n      <td>1600.0</td>\n      <td>99000.0</td>\n      <td>9800.0</td>\n      <td>Opolskie</td>\n    </tr>\n    <tr>\n      <th>3</th>\n      <td>3</td>\n      <td>Hyundai</td>\n      <td>i10 I</td>\n      <td>2008.0</td>\n      <td>Benzyna</td>\n      <td>1100.0</td>\n      <td>93000.0</td>\n      <td>11900.0</td>\n      <td>Łódzkie</td>\n    </tr>\n    <tr>\n      <th>4</th>\n      <td>4</td>\n      <td>Volkswagen</td>\n      <td>CC</td>\n      <td>2010.0</td>\n      <td>Diesel</td>\n      <td>1968.0</td>\n      <td>127428.0</td>\n      <td>49900.0</td>\n      <td>Wielkopolskie</td>\n    </tr>\n    <tr>\n      <th>...</th>\n      <td>...</td>\n      <td>...</td>\n      <td>...</td>\n      <td>...</td>\n      <td>...</td>\n      <td>...</td>\n      <td>...</td>\n      <td>...</td>\n      <td>...</td>\n    </tr>\n    <tr>\n      <th>995</th>\n      <td>995</td>\n      <td>Alfa Romeo</td>\n      <td>159</td>\n      <td>2009.0</td>\n      <td>Diesel</td>\n      <td>2387.0</td>\n      <td>182000.0</td>\n      <td>33900.0</td>\n      <td>Małopolskie</td>\n    </tr>\n    <tr>\n      <th>996</th>\n      <td>996</td>\n      <td>Škoda</td>\n      <td>Fabia II</td>\n      <td>2012.0</td>\n      <td>Benzyna</td>\n      <td>1200.0</td>\n      <td>42700.0</td>\n      <td>25400.0</td>\n      <td>Lubelskie</td>\n    </tr>\n    <tr>\n      <th>997</th>\n      <td>997</td>\n      <td>Renault</td>\n      <td>Modus</td>\n      <td>2004.0</td>\n      <td>Benzyna</td>\n      <td>1200.0</td>\n      <td>168111.0</td>\n      <td>10900.0</td>\n      <td>Łódzkie</td>\n    </tr>\n    <tr>\n      <th>998</th>\n      <td>998</td>\n      <td>Audi</td>\n      <td>A3 8L</td>\n      <td>2000.0</td>\n      <td>Benzyna</td>\n      <td>1595.0</td>\n      <td>226500.0</td>\n      <td>5400.0</td>\n      <td>Małopolskie</td>\n    </tr>\n    <tr>\n      <th>999</th>\n      <td>999</td>\n      <td>Volvo</td>\n      <td>XC 60 I</td>\n      <td>2016.0</td>\n      <td>Diesel</td>\n      <td>1969.0</td>\n      <td>13617.0</td>\n      <td>136900.0</td>\n      <td>Małopolskie</td>\n    </tr>\n  </tbody>\n</table>\n<p>1000 rows × 9 columns</p>\n</div>"
     },
     "metadata": {},
     "execution_count": 6
    }
   ],
   "source": [
    "#Usuwanie duplikatów - w tej bazie chyba nie ma powtórzeń\n",
    "data.drop_duplicates()"
   ]
  },
  {
   "cell_type": "code",
   "execution_count": 7,
   "metadata": {},
   "outputs": [
    {
     "output_type": "execute_result",
     "data": {
      "text/plain": [
       "      id       marka       model  rok_produkcji rodzaj_silnika  \\\n",
       "393  393  Volkswagen  Touareg II         2016.0         Diesel   \n",
       "718  718  Volkswagen   Tiguan II         2017.0        Benzyna   \n",
       "487  487  Mitsubishi    Colt CJ0         2002.0        Benzyna   \n",
       "341  341        Audi        Q7 I         2006.0         Diesel   \n",
       "688  688        Opel    Zafira B         2005.0         Diesel   \n",
       "\n",
       "     pojemnosc_silnika  przebieg      cena         wojewodztwo  \n",
       "393             2967.0    9000.0  297000.0           Pomorskie  \n",
       "718             1968.0       5.0  176600.0             Łódzkie  \n",
       "487             1299.0  282000.0    2200.0        Dolnośląskie  \n",
       "341             3000.0  120158.0   74900.0  Zachodniopomorskie  \n",
       "688             1900.0  227000.0   14900.0             Śląskie  "
      ],
      "text/html": "<div>\n<style scoped>\n    .dataframe tbody tr th:only-of-type {\n        vertical-align: middle;\n    }\n\n    .dataframe tbody tr th {\n        vertical-align: top;\n    }\n\n    .dataframe thead th {\n        text-align: right;\n    }\n</style>\n<table border=\"1\" class=\"dataframe\">\n  <thead>\n    <tr style=\"text-align: right;\">\n      <th></th>\n      <th>id</th>\n      <th>marka</th>\n      <th>model</th>\n      <th>rok_produkcji</th>\n      <th>rodzaj_silnika</th>\n      <th>pojemnosc_silnika</th>\n      <th>przebieg</th>\n      <th>cena</th>\n      <th>wojewodztwo</th>\n    </tr>\n  </thead>\n  <tbody>\n    <tr>\n      <th>393</th>\n      <td>393</td>\n      <td>Volkswagen</td>\n      <td>Touareg II</td>\n      <td>2016.0</td>\n      <td>Diesel</td>\n      <td>2967.0</td>\n      <td>9000.0</td>\n      <td>297000.0</td>\n      <td>Pomorskie</td>\n    </tr>\n    <tr>\n      <th>718</th>\n      <td>718</td>\n      <td>Volkswagen</td>\n      <td>Tiguan II</td>\n      <td>2017.0</td>\n      <td>Benzyna</td>\n      <td>1968.0</td>\n      <td>5.0</td>\n      <td>176600.0</td>\n      <td>Łódzkie</td>\n    </tr>\n    <tr>\n      <th>487</th>\n      <td>487</td>\n      <td>Mitsubishi</td>\n      <td>Colt CJ0</td>\n      <td>2002.0</td>\n      <td>Benzyna</td>\n      <td>1299.0</td>\n      <td>282000.0</td>\n      <td>2200.0</td>\n      <td>Dolnośląskie</td>\n    </tr>\n    <tr>\n      <th>341</th>\n      <td>341</td>\n      <td>Audi</td>\n      <td>Q7 I</td>\n      <td>2006.0</td>\n      <td>Diesel</td>\n      <td>3000.0</td>\n      <td>120158.0</td>\n      <td>74900.0</td>\n      <td>Zachodniopomorskie</td>\n    </tr>\n    <tr>\n      <th>688</th>\n      <td>688</td>\n      <td>Opel</td>\n      <td>Zafira B</td>\n      <td>2005.0</td>\n      <td>Diesel</td>\n      <td>1900.0</td>\n      <td>227000.0</td>\n      <td>14900.0</td>\n      <td>Śląskie</td>\n    </tr>\n  </tbody>\n</table>\n</div>"
     },
     "metadata": {},
     "execution_count": 7
    }
   ],
   "source": [
    "#5 losowych pojazdów\n",
    "data.sample(n=5)"
   ]
  },
  {
   "cell_type": "code",
   "execution_count": 8,
   "metadata": {},
   "outputs": [
    {
     "output_type": "execute_result",
     "data": {
      "text/plain": [
       "      id          marka         model  rok_produkcji rodzaj_silnika  \\\n",
       "7      7           Seat     Toledo II         2000.0        Benzyna   \n",
       "8      8     Volkswagen            CC         2014.0         Diesel   \n",
       "24    24          Volvo        S40 II         2008.0         Diesel   \n",
       "28    28         Toyota   Avensis III         2009.0         Diesel   \n",
       "36    36            BMW        X5 F15         2017.0         Diesel   \n",
       "..   ...            ...           ...            ...            ...   \n",
       "921  921     Volkswagen      Tiguan I         2009.0         Diesel   \n",
       "925  925           Opel       Astra J         2010.0        Benzyna   \n",
       "933  933           Ford    Mondeo Mk4         2014.0         Diesel   \n",
       "956  956  Mercedes-Benz  Klasa E W213         2017.0         Diesel   \n",
       "970  970         Toyota   Avensis III         2014.0        Benzyna   \n",
       "\n",
       "     pojemnosc_silnika  przebieg      cena wojewodztwo  \n",
       "7               1800.0  140700.0    8150.0   Pomorskie  \n",
       "8               1968.0   52000.0   97000.0   Pomorskie  \n",
       "24              1600.0  232000.0   19999.0   Pomorskie  \n",
       "28              2000.0  179000.0   34900.0   Pomorskie  \n",
       "36              1997.0       1.0  266800.0   Pomorskie  \n",
       "..                 ...       ...       ...         ...  \n",
       "921             2000.0  136000.0   46900.0   Pomorskie  \n",
       "925             1600.0   91000.0   30950.0   Pomorskie  \n",
       "933             1997.0  126279.0   52900.0   Pomorskie  \n",
       "956             1950.0      13.0  271047.0   Pomorskie  \n",
       "970             1800.0   36680.0   59900.0   Pomorskie  \n",
       "\n",
       "[67 rows x 9 columns]"
      ],
      "text/html": "<div>\n<style scoped>\n    .dataframe tbody tr th:only-of-type {\n        vertical-align: middle;\n    }\n\n    .dataframe tbody tr th {\n        vertical-align: top;\n    }\n\n    .dataframe thead th {\n        text-align: right;\n    }\n</style>\n<table border=\"1\" class=\"dataframe\">\n  <thead>\n    <tr style=\"text-align: right;\">\n      <th></th>\n      <th>id</th>\n      <th>marka</th>\n      <th>model</th>\n      <th>rok_produkcji</th>\n      <th>rodzaj_silnika</th>\n      <th>pojemnosc_silnika</th>\n      <th>przebieg</th>\n      <th>cena</th>\n      <th>wojewodztwo</th>\n    </tr>\n  </thead>\n  <tbody>\n    <tr>\n      <th>7</th>\n      <td>7</td>\n      <td>Seat</td>\n      <td>Toledo II</td>\n      <td>2000.0</td>\n      <td>Benzyna</td>\n      <td>1800.0</td>\n      <td>140700.0</td>\n      <td>8150.0</td>\n      <td>Pomorskie</td>\n    </tr>\n    <tr>\n      <th>8</th>\n      <td>8</td>\n      <td>Volkswagen</td>\n      <td>CC</td>\n      <td>2014.0</td>\n      <td>Diesel</td>\n      <td>1968.0</td>\n      <td>52000.0</td>\n      <td>97000.0</td>\n      <td>Pomorskie</td>\n    </tr>\n    <tr>\n      <th>24</th>\n      <td>24</td>\n      <td>Volvo</td>\n      <td>S40 II</td>\n      <td>2008.0</td>\n      <td>Diesel</td>\n      <td>1600.0</td>\n      <td>232000.0</td>\n      <td>19999.0</td>\n      <td>Pomorskie</td>\n    </tr>\n    <tr>\n      <th>28</th>\n      <td>28</td>\n      <td>Toyota</td>\n      <td>Avensis III</td>\n      <td>2009.0</td>\n      <td>Diesel</td>\n      <td>2000.0</td>\n      <td>179000.0</td>\n      <td>34900.0</td>\n      <td>Pomorskie</td>\n    </tr>\n    <tr>\n      <th>36</th>\n      <td>36</td>\n      <td>BMW</td>\n      <td>X5 F15</td>\n      <td>2017.0</td>\n      <td>Diesel</td>\n      <td>1997.0</td>\n      <td>1.0</td>\n      <td>266800.0</td>\n      <td>Pomorskie</td>\n    </tr>\n    <tr>\n      <th>...</th>\n      <td>...</td>\n      <td>...</td>\n      <td>...</td>\n      <td>...</td>\n      <td>...</td>\n      <td>...</td>\n      <td>...</td>\n      <td>...</td>\n      <td>...</td>\n    </tr>\n    <tr>\n      <th>921</th>\n      <td>921</td>\n      <td>Volkswagen</td>\n      <td>Tiguan I</td>\n      <td>2009.0</td>\n      <td>Diesel</td>\n      <td>2000.0</td>\n      <td>136000.0</td>\n      <td>46900.0</td>\n      <td>Pomorskie</td>\n    </tr>\n    <tr>\n      <th>925</th>\n      <td>925</td>\n      <td>Opel</td>\n      <td>Astra J</td>\n      <td>2010.0</td>\n      <td>Benzyna</td>\n      <td>1600.0</td>\n      <td>91000.0</td>\n      <td>30950.0</td>\n      <td>Pomorskie</td>\n    </tr>\n    <tr>\n      <th>933</th>\n      <td>933</td>\n      <td>Ford</td>\n      <td>Mondeo Mk4</td>\n      <td>2014.0</td>\n      <td>Diesel</td>\n      <td>1997.0</td>\n      <td>126279.0</td>\n      <td>52900.0</td>\n      <td>Pomorskie</td>\n    </tr>\n    <tr>\n      <th>956</th>\n      <td>956</td>\n      <td>Mercedes-Benz</td>\n      <td>Klasa E W213</td>\n      <td>2017.0</td>\n      <td>Diesel</td>\n      <td>1950.0</td>\n      <td>13.0</td>\n      <td>271047.0</td>\n      <td>Pomorskie</td>\n    </tr>\n    <tr>\n      <th>970</th>\n      <td>970</td>\n      <td>Toyota</td>\n      <td>Avensis III</td>\n      <td>2014.0</td>\n      <td>Benzyna</td>\n      <td>1800.0</td>\n      <td>36680.0</td>\n      <td>59900.0</td>\n      <td>Pomorskie</td>\n    </tr>\n  </tbody>\n</table>\n<p>67 rows × 9 columns</p>\n</div>"
     },
     "metadata": {},
     "execution_count": 8
    }
   ],
   "source": [
    "#Wyświetlenie wszystkich pojazdów z woj. Pomorskiego\n",
    "wojewodztwo = data[data.wojewodztwo==\"Pomorskie\"]\n",
    "wojewodztwo"
   ]
  },
  {
   "cell_type": "code",
   "execution_count": 9,
   "metadata": {},
   "outputs": [
    {
     "output_type": "execute_result",
     "data": {
      "text/plain": [
       "cena    51942181.0\n",
       "dtype: float64"
      ]
     },
     "metadata": {},
     "execution_count": 9
    }
   ],
   "source": [
    "#Wyświetlenie łącznej ceny pojazdów\n",
    "data.filter(items=['cena']).sum()"
   ]
  },
  {
   "source": [
    "#Wyświetlenie 5 ostanich elementów w tabeli\n",
    "data.tail(5)"
   ],
   "cell_type": "code",
   "metadata": {},
   "execution_count": 20,
   "outputs": [
    {
     "output_type": "execute_result",
     "data": {
      "text/plain": [
       "      id       marka     model  rok_produkcji rodzaj_silnika  \\\n",
       "995  995  Alfa Romeo       159         2009.0         Diesel   \n",
       "996  996       Škoda  Fabia II         2012.0        Benzyna   \n",
       "997  997     Renault     Modus         2004.0        Benzyna   \n",
       "998  998        Audi     A3 8L         2000.0        Benzyna   \n",
       "999  999       Volvo   XC 60 I         2016.0         Diesel   \n",
       "\n",
       "     pojemnosc_silnika  przebieg      cena  wojewodztwo  \n",
       "995             2387.0  182000.0   33900.0  Małopolskie  \n",
       "996             1200.0   42700.0   25400.0    Lubelskie  \n",
       "997             1200.0  168111.0   10900.0      Łódzkie  \n",
       "998             1595.0  226500.0    5400.0  Małopolskie  \n",
       "999             1969.0   13617.0  136900.0  Małopolskie  "
      ],
      "text/html": "<div>\n<style scoped>\n    .dataframe tbody tr th:only-of-type {\n        vertical-align: middle;\n    }\n\n    .dataframe tbody tr th {\n        vertical-align: top;\n    }\n\n    .dataframe thead th {\n        text-align: right;\n    }\n</style>\n<table border=\"1\" class=\"dataframe\">\n  <thead>\n    <tr style=\"text-align: right;\">\n      <th></th>\n      <th>id</th>\n      <th>marka</th>\n      <th>model</th>\n      <th>rok_produkcji</th>\n      <th>rodzaj_silnika</th>\n      <th>pojemnosc_silnika</th>\n      <th>przebieg</th>\n      <th>cena</th>\n      <th>wojewodztwo</th>\n    </tr>\n  </thead>\n  <tbody>\n    <tr>\n      <th>995</th>\n      <td>995</td>\n      <td>Alfa Romeo</td>\n      <td>159</td>\n      <td>2009.0</td>\n      <td>Diesel</td>\n      <td>2387.0</td>\n      <td>182000.0</td>\n      <td>33900.0</td>\n      <td>Małopolskie</td>\n    </tr>\n    <tr>\n      <th>996</th>\n      <td>996</td>\n      <td>Škoda</td>\n      <td>Fabia II</td>\n      <td>2012.0</td>\n      <td>Benzyna</td>\n      <td>1200.0</td>\n      <td>42700.0</td>\n      <td>25400.0</td>\n      <td>Lubelskie</td>\n    </tr>\n    <tr>\n      <th>997</th>\n      <td>997</td>\n      <td>Renault</td>\n      <td>Modus</td>\n      <td>2004.0</td>\n      <td>Benzyna</td>\n      <td>1200.0</td>\n      <td>168111.0</td>\n      <td>10900.0</td>\n      <td>Łódzkie</td>\n    </tr>\n    <tr>\n      <th>998</th>\n      <td>998</td>\n      <td>Audi</td>\n      <td>A3 8L</td>\n      <td>2000.0</td>\n      <td>Benzyna</td>\n      <td>1595.0</td>\n      <td>226500.0</td>\n      <td>5400.0</td>\n      <td>Małopolskie</td>\n    </tr>\n    <tr>\n      <th>999</th>\n      <td>999</td>\n      <td>Volvo</td>\n      <td>XC 60 I</td>\n      <td>2016.0</td>\n      <td>Diesel</td>\n      <td>1969.0</td>\n      <td>13617.0</td>\n      <td>136900.0</td>\n      <td>Małopolskie</td>\n    </tr>\n  </tbody>\n</table>\n</div>"
     },
     "metadata": {},
     "execution_count": 20
    }
   ]
  },
  {
   "cell_type": "code",
   "execution_count": 21,
   "metadata": {},
   "outputs": [
    {
     "output_type": "execute_result",
     "data": {
      "text/plain": [
       "      id          marka                 model  rok_produkcji rodzaj_silnika  \\\n",
       "405  405  Mercedes-Benz               SL R231         2016.0        Benzyna   \n",
       "586  586  Mercedes-Benz          Klasa G W463         2013.0        Benzyna   \n",
       "855  855     Land Rover  Range Rover Sport II         2016.0        Benzyna   \n",
       "517  517           Audi                   RS7         2016.0        Benzyna   \n",
       "410  410            BMW        Seria 7 G11/12         2017.0        Hybryda   \n",
       "\n",
       "     pojemnosc_silnika  przebieg      cena  wojewodztwo  \n",
       "405             4663.0    2000.0  616000.0  Mazowieckie  \n",
       "586             5500.0    4900.0  579000.0    Pomorskie  \n",
       "855             4999.0   20000.0  529900.0  Mazowieckie  \n",
       "517             3993.0   10000.0  514000.0  Mazowieckie  \n",
       "410             2000.0   10000.0  469900.0  Mazowieckie  "
      ],
      "text/html": "<div>\n<style scoped>\n    .dataframe tbody tr th:only-of-type {\n        vertical-align: middle;\n    }\n\n    .dataframe tbody tr th {\n        vertical-align: top;\n    }\n\n    .dataframe thead th {\n        text-align: right;\n    }\n</style>\n<table border=\"1\" class=\"dataframe\">\n  <thead>\n    <tr style=\"text-align: right;\">\n      <th></th>\n      <th>id</th>\n      <th>marka</th>\n      <th>model</th>\n      <th>rok_produkcji</th>\n      <th>rodzaj_silnika</th>\n      <th>pojemnosc_silnika</th>\n      <th>przebieg</th>\n      <th>cena</th>\n      <th>wojewodztwo</th>\n    </tr>\n  </thead>\n  <tbody>\n    <tr>\n      <th>405</th>\n      <td>405</td>\n      <td>Mercedes-Benz</td>\n      <td>SL R231</td>\n      <td>2016.0</td>\n      <td>Benzyna</td>\n      <td>4663.0</td>\n      <td>2000.0</td>\n      <td>616000.0</td>\n      <td>Mazowieckie</td>\n    </tr>\n    <tr>\n      <th>586</th>\n      <td>586</td>\n      <td>Mercedes-Benz</td>\n      <td>Klasa G W463</td>\n      <td>2013.0</td>\n      <td>Benzyna</td>\n      <td>5500.0</td>\n      <td>4900.0</td>\n      <td>579000.0</td>\n      <td>Pomorskie</td>\n    </tr>\n    <tr>\n      <th>855</th>\n      <td>855</td>\n      <td>Land Rover</td>\n      <td>Range Rover Sport II</td>\n      <td>2016.0</td>\n      <td>Benzyna</td>\n      <td>4999.0</td>\n      <td>20000.0</td>\n      <td>529900.0</td>\n      <td>Mazowieckie</td>\n    </tr>\n    <tr>\n      <th>517</th>\n      <td>517</td>\n      <td>Audi</td>\n      <td>RS7</td>\n      <td>2016.0</td>\n      <td>Benzyna</td>\n      <td>3993.0</td>\n      <td>10000.0</td>\n      <td>514000.0</td>\n      <td>Mazowieckie</td>\n    </tr>\n    <tr>\n      <th>410</th>\n      <td>410</td>\n      <td>BMW</td>\n      <td>Seria 7 G11/12</td>\n      <td>2017.0</td>\n      <td>Hybryda</td>\n      <td>2000.0</td>\n      <td>10000.0</td>\n      <td>469900.0</td>\n      <td>Mazowieckie</td>\n    </tr>\n  </tbody>\n</table>\n</div>"
     },
     "metadata": {},
     "execution_count": 21
    }
   ],
   "source": [
    "#Wyświetlanie 5 najdroższych pojazdów\n",
    "data.nlargest(5, 'cena')"
   ]
  },
  {
   "cell_type": "code",
   "execution_count": 33,
   "metadata": {},
   "outputs": [
    {
     "output_type": "execute_result",
     "data": {
      "text/plain": [
       "          marka        model rodzaj_silnika  pojemnosc_silnika  przebieg  \\\n",
       "0        Nissan  X-Trail III         Diesel             1600.0  160000.0   \n",
       "1           BMW       X1 E84         Diesel             2000.0  149000.0   \n",
       "2          Opel     Zafira A    Benzyna+CNG             1600.0   99000.0   \n",
       "3       Hyundai        i10 I        Benzyna             1100.0   93000.0   \n",
       "4    Volkswagen           CC         Diesel             1968.0  127428.0   \n",
       "..          ...          ...            ...                ...       ...   \n",
       "995  Alfa Romeo          159         Diesel             2387.0  182000.0   \n",
       "996       Škoda     Fabia II        Benzyna             1200.0   42700.0   \n",
       "997     Renault        Modus        Benzyna             1200.0  168111.0   \n",
       "998        Audi        A3 8L        Benzyna             1595.0  226500.0   \n",
       "999       Volvo      XC 60 I         Diesel             1969.0   13617.0   \n",
       "\n",
       "         cena     wojewodztwo  \n",
       "0     75900.0    Dolnośląskie  \n",
       "1     70900.0  Świętokrzyskie  \n",
       "2      9800.0        Opolskie  \n",
       "3     11900.0         Łódzkie  \n",
       "4     49900.0   Wielkopolskie  \n",
       "..        ...             ...  \n",
       "995   33900.0     Małopolskie  \n",
       "996   25400.0       Lubelskie  \n",
       "997   10900.0         Łódzkie  \n",
       "998    5400.0     Małopolskie  \n",
       "999  136900.0     Małopolskie  \n",
       "\n",
       "[1000 rows x 7 columns]"
      ],
      "text/html": "<div>\n<style scoped>\n    .dataframe tbody tr th:only-of-type {\n        vertical-align: middle;\n    }\n\n    .dataframe tbody tr th {\n        vertical-align: top;\n    }\n\n    .dataframe thead th {\n        text-align: right;\n    }\n</style>\n<table border=\"1\" class=\"dataframe\">\n  <thead>\n    <tr style=\"text-align: right;\">\n      <th></th>\n      <th>marka</th>\n      <th>model</th>\n      <th>rodzaj_silnika</th>\n      <th>pojemnosc_silnika</th>\n      <th>przebieg</th>\n      <th>cena</th>\n      <th>wojewodztwo</th>\n    </tr>\n  </thead>\n  <tbody>\n    <tr>\n      <th>0</th>\n      <td>Nissan</td>\n      <td>X-Trail III</td>\n      <td>Diesel</td>\n      <td>1600.0</td>\n      <td>160000.0</td>\n      <td>75900.0</td>\n      <td>Dolnośląskie</td>\n    </tr>\n    <tr>\n      <th>1</th>\n      <td>BMW</td>\n      <td>X1 E84</td>\n      <td>Diesel</td>\n      <td>2000.0</td>\n      <td>149000.0</td>\n      <td>70900.0</td>\n      <td>Świętokrzyskie</td>\n    </tr>\n    <tr>\n      <th>2</th>\n      <td>Opel</td>\n      <td>Zafira A</td>\n      <td>Benzyna+CNG</td>\n      <td>1600.0</td>\n      <td>99000.0</td>\n      <td>9800.0</td>\n      <td>Opolskie</td>\n    </tr>\n    <tr>\n      <th>3</th>\n      <td>Hyundai</td>\n      <td>i10 I</td>\n      <td>Benzyna</td>\n      <td>1100.0</td>\n      <td>93000.0</td>\n      <td>11900.0</td>\n      <td>Łódzkie</td>\n    </tr>\n    <tr>\n      <th>4</th>\n      <td>Volkswagen</td>\n      <td>CC</td>\n      <td>Diesel</td>\n      <td>1968.0</td>\n      <td>127428.0</td>\n      <td>49900.0</td>\n      <td>Wielkopolskie</td>\n    </tr>\n    <tr>\n      <th>...</th>\n      <td>...</td>\n      <td>...</td>\n      <td>...</td>\n      <td>...</td>\n      <td>...</td>\n      <td>...</td>\n      <td>...</td>\n    </tr>\n    <tr>\n      <th>995</th>\n      <td>Alfa Romeo</td>\n      <td>159</td>\n      <td>Diesel</td>\n      <td>2387.0</td>\n      <td>182000.0</td>\n      <td>33900.0</td>\n      <td>Małopolskie</td>\n    </tr>\n    <tr>\n      <th>996</th>\n      <td>Škoda</td>\n      <td>Fabia II</td>\n      <td>Benzyna</td>\n      <td>1200.0</td>\n      <td>42700.0</td>\n      <td>25400.0</td>\n      <td>Lubelskie</td>\n    </tr>\n    <tr>\n      <th>997</th>\n      <td>Renault</td>\n      <td>Modus</td>\n      <td>Benzyna</td>\n      <td>1200.0</td>\n      <td>168111.0</td>\n      <td>10900.0</td>\n      <td>Łódzkie</td>\n    </tr>\n    <tr>\n      <th>998</th>\n      <td>Audi</td>\n      <td>A3 8L</td>\n      <td>Benzyna</td>\n      <td>1595.0</td>\n      <td>226500.0</td>\n      <td>5400.0</td>\n      <td>Małopolskie</td>\n    </tr>\n    <tr>\n      <th>999</th>\n      <td>Volvo</td>\n      <td>XC 60 I</td>\n      <td>Diesel</td>\n      <td>1969.0</td>\n      <td>13617.0</td>\n      <td>136900.0</td>\n      <td>Małopolskie</td>\n    </tr>\n  </tbody>\n</table>\n<p>1000 rows × 7 columns</p>\n</div>"
     },
     "metadata": {},
     "execution_count": 33
    }
   ],
   "source": [
    "#Usunięcie kolumn rok produkcji oraz id\n",
    "data.drop(columns = 'rok_produkcji').drop(columns ='id')"
   ]
  },
  {
   "cell_type": "code",
   "execution_count": null,
   "metadata": {},
   "outputs": [],
   "source": []
  }
 ]
}