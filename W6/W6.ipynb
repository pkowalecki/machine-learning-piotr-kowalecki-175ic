{
  "nbformat": 4,
  "nbformat_minor": 0,
  "metadata": {
    "colab": {
      "name": "W6.ipynb",
      "provenance": [],
      "collapsed_sections": [],
      "authorship_tag": "ABX9TyMZni+6ALuvCedbAJN3r5k9"
    },
    "kernelspec": {
      "name": "python3",
      "display_name": "Python 3"
    }
  },
  "cells": [
    {
      "cell_type": "code",
      "metadata": {
        "colab": {
          "base_uri": "https://localhost:8080/"
        },
        "id": "L8J3PscjK6IJ",
        "outputId": "a0db4aff-5493-4e01-c5a5-564683dffa17"
      },
      "source": [
        "#Otwieranie pliku\n",
        "file = open('kowalecki_175ic_txt.txt')\n",
        "print(file)"
      ],
      "execution_count": 16,
      "outputs": [
        {
          "output_type": "stream",
          "text": [
            "<_io.TextIOWrapper name='kowalecki_175ic_txt.txt' mode='r' encoding='UTF-8'>\n"
          ],
          "name": "stdout"
        }
      ]
    },
    {
      "cell_type": "code",
      "metadata": {
        "id": "yNnpWlrDLhxN"
      },
      "source": [
        "#Otwieranie pliku oraz zamknięcie go w razie pojawienia się błędu\n",
        "reader = open('kowalecki_175ic_txt.txt')\n",
        "try:\n",
        "  reader.read()\n",
        "finally:\n",
        "    reader.close()"
      ],
      "execution_count": 4,
      "outputs": []
    },
    {
      "cell_type": "code",
      "metadata": {
        "id": "i_f-QV-9MJnk"
      },
      "source": [
        "#Uruchomienie pliku. Zamknięcie następuje po wyjściu z 'with'\n",
        "with open('kowalecki_175ic_txt.txt') as reader:\n",
        "    reader.read()"
      ],
      "execution_count": 5,
      "outputs": []
    },
    {
      "cell_type": "code",
      "metadata": {
        "colab": {
          "base_uri": "https://localhost:8080/"
        },
        "id": "rs3VebYYOWik",
        "outputId": "d9781deb-6064-4e29-9517-8b28f0fa8bcb"
      },
      "source": [
        "#Typy plików\n",
        "print(type(open('kowalecki_175ic_txt.txt', 'r')))\n",
        "print(type(open('kowalecki_175ic_txt.txt', 'rb')))\n",
        "print(type(open('kowalecki_175ic_txt.txt', 'rb', buffering=0)))\n"
      ],
      "execution_count": 13,
      "outputs": [
        {
          "output_type": "stream",
          "text": [
            "<class '_io.TextIOWrapper'>\n",
            "<class '_io.BufferedReader'>\n",
            "<class '_io.FileIO'>\n"
          ],
          "name": "stdout"
        }
      ]
    },
    {
      "cell_type": "code",
      "metadata": {
        "colab": {
          "base_uri": "https://localhost:8080/"
        },
        "id": "_g96BlUdPmpC",
        "outputId": "f4aa141f-9114-443e-9aed-7856397a7f7a"
      },
      "source": [
        "#Czytanie plików\n",
        "with open('kowalecki_175ic_txt.txt', 'r') as reader:\n",
        "  print(reader.read())"
      ],
      "execution_count": 22,
      "outputs": [
        {
          "output_type": "stream",
          "text": [
            "Kowalecki 175IC\n",
            "Linia  2 \n",
            "Linia 3\n",
            "Linia 4\n",
            "\n"
          ],
          "name": "stdout"
        }
      ]
    },
    {
      "cell_type": "code",
      "metadata": {
        "colab": {
          "base_uri": "https://localhost:8080/"
        },
        "id": "FnI2x8Z0QgSt",
        "outputId": "ca7088cf-a1f6-4915-886f-55e1d2c57428"
      },
      "source": [
        "#Czytanie po 5 bajtów z pliku\n",
        "with open('kowalecki_175ic_txt.txt', 'r') as reader:\n",
        "  print(reader.readline(5))\n",
        "  print(reader.readline(5))\n",
        "  print(reader.readline(5))"
      ],
      "execution_count": 25,
      "outputs": [
        {
          "output_type": "stream",
          "text": [
            "Kowal\n",
            "ecki \n",
            "175IC\n"
          ],
          "name": "stdout"
        }
      ]
    },
    {
      "cell_type": "code",
      "metadata": {
        "colab": {
          "base_uri": "https://localhost:8080/"
        },
        "id": "66sn6tKiQ9wH",
        "outputId": "d444b408-1030-405d-b03f-ebab31b8f14d"
      },
      "source": [
        "#Zwrócenie tekstu jako listę\n",
        "f = open('kowalecki_175ic_txt.txt')\n",
        "f.readlines()"
      ],
      "execution_count": 27,
      "outputs": [
        {
          "output_type": "execute_result",
          "data": {
            "text/plain": [
              "['Kowalecki 175IC\\n', 'Linia  2 \\n', 'Linia 3\\n', 'Linia 4\\n']"
            ]
          },
          "metadata": {
            "tags": []
          },
          "execution_count": 27
        }
      ]
    },
    {
      "cell_type": "code",
      "metadata": {
        "colab": {
          "base_uri": "https://localhost:8080/"
        },
        "id": "wY6f_zr_RQIp",
        "outputId": "d70b36ff-fe36-475c-e460-eb972394fa9a"
      },
      "source": [
        "#Iterowanie po każdej linii w pliku na 3 różne sposoby\n",
        "with open('kowalecki_175ic_txt.txt', 'r') as reader:\n",
        "    line = reader.readline()\n",
        "    while line != '':\n",
        "         print(line, end='')\n",
        "         line = reader.readline()\n",
        "\n",
        "with open('kowalecki_175ic_txt.txt', 'r') as reader:\n",
        "     for line in reader.readlines():\n",
        "         print(line, end='')\n",
        "\n",
        "with open('kowalecki_175ic_txt.txt', 'r') as reader:\n",
        "     for line in reader:\n",
        "         print(line, end='')"
      ],
      "execution_count": 32,
      "outputs": [
        {
          "output_type": "stream",
          "text": [
            "Kowalecki 175IC\n",
            "Linia  2 \n",
            "Linia 3\n",
            "Linia 4\n",
            "Kowalecki 175IC\n",
            "Linia  2 \n",
            "Linia 3\n",
            "Linia 4\n",
            "Kowalecki 175IC\n",
            "Linia  2 \n",
            "Linia 3\n",
            "Linia 4\n"
          ],
          "name": "stdout"
        }
      ]
    },
    {
      "cell_type": "code",
      "metadata": {
        "colab": {
          "base_uri": "https://localhost:8080/"
        },
        "id": "VhkVk5iRSeKN",
        "outputId": "ca8a483c-bc23-4ec5-ee6e-c612e97d7044"
      },
      "source": [
        "#Zapis do pliku\n",
        "with open('kowalecki_175ic_txt.txt', 'r') as reader:\n",
        "    read_only_text = reader.readlines()\n",
        "\n",
        "with open('kowalecki_175ic_write.txt', 'w') as writer:\n",
        "    for text in reversed(read_only_text):\n",
        "        writer.write(text)\n",
        "        \n",
        "with open('kowalecki_175ic_write.txt', 'r') as reader:\n",
        "      print(reader.read())"
      ],
      "execution_count": 38,
      "outputs": [
        {
          "output_type": "stream",
          "text": [
            "Linia 4\n",
            "Linia 3\n",
            "Linia  2 \n",
            "Kowalecki 175IC\n",
            "\n"
          ],
          "name": "stdout"
        }
      ]
    },
    {
      "cell_type": "code",
      "metadata": {
        "colab": {
          "base_uri": "https://localhost:8080/"
        },
        "id": "yY3i0FadTmr3",
        "outputId": "5dca4b5f-9d61-4c9e-8c3d-0fdf382862c1"
      },
      "source": [
        "#Praca z bajtami - wczytanie pliku\n",
        "with open('kowalecki_175ic_write.txt', 'rb') as reader:\n",
        "    print(reader.readline())"
      ],
      "execution_count": 39,
      "outputs": [
        {
          "output_type": "stream",
          "text": [
            "b'Linia 4\\n'\n"
          ],
          "name": "stdout"
        }
      ]
    },
    {
      "cell_type": "code",
      "metadata": {
        "colab": {
          "base_uri": "https://localhost:8080/"
        },
        "id": "Ta1ZDJizUnku",
        "outputId": "fea18754-4238-406f-81bf-182ecde30285"
      },
      "source": [
        "#Wczytanie obrazu i wyświetlenie jego danych\n",
        "with open('test.jpg', 'rb') as byte_reader:\n",
        "     print(byte_reader.read(1))\n",
        "     print(byte_reader.read(3))\n",
        "     print(byte_reader.read(2))\n",
        "     print(byte_reader.read(1))\n",
        "     print(byte_reader.read(1))"
      ],
      "execution_count": 40,
      "outputs": [
        {
          "output_type": "stream",
          "text": [
            "b'\\xff'\n",
            "b'\\xd8\\xff\\xe0'\n",
            "b'\\x00\\x10'\n",
            "b'J'\n",
            "b'F'\n"
          ],
          "name": "stdout"
        }
      ]
    }
  ]
}