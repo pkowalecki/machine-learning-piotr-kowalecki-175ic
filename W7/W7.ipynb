{
  "nbformat": 4,
  "nbformat_minor": 0,
  "metadata": {
    "colab": {
      "name": "W7.ipynb",
      "provenance": [],
      "authorship_tag": "ABX9TyOK2oESD67vq3eXBqrQztJ/",
      "include_colab_link": true
    },
    "kernelspec": {
      "name": "python3",
      "display_name": "Python 3"
    }
  },
  "cells": [
    {
      "cell_type": "markdown",
      "metadata": {
        "id": "view-in-github",
        "colab_type": "text"
      },
      "source": [
        "<a href=\"https://colab.research.google.com/github/pkowalecki/machine-learning-piotr-kowalecki-175ic/blob/main/W7/W7.ipynb\" target=\"_parent\"><img src=\"https://colab.research.google.com/assets/colab-badge.svg\" alt=\"Open In Colab\"/></a>"
      ]
    },
    {
      "cell_type": "code",
      "metadata": {
        "id": "xx8P2ULS9Mql"
      },
      "source": [
        "import numpy as np\r\n",
        "import pandas as pd"
      ],
      "execution_count": 1,
      "outputs": []
    },
    {
      "cell_type": "code",
      "metadata": {
        "colab": {
          "base_uri": "https://localhost:8080/",
          "height": 166
        },
        "id": "2mmx0L4UZTHh",
        "outputId": "40c258b7-d4f0-42b7-99b2-c229cd6d255b"
      },
      "source": [
        "#AND\r\n",
        "X = np.vstack([(0, 0), (0, 1), (1, 0), (1, 1)])\r\n",
        "datasetAND = pd.DataFrame(X, columns={\"X1\", \"X2\"})\r\n",
        "\r\n",
        "andValues = []\r\n",
        "functionValues = []\r\n",
        "for i in X:\r\n",
        "    result = i[0] and i[1]\r\n",
        "    andValues.append(result)\r\n",
        "    function_result = -1.5 + i[0] + i[1]\r\n",
        "    functionValues.append(function_result)\r\n",
        "\r\n",
        "datasetAND[\"X1 AND X2\"] = andValues\r\n",
        "datasetAND[\"(-1,5+X1+X2)\"] = functionValues\r\n",
        "datasetAND[\"a\"] = andValues\r\n",
        "datasetAND"
      ],
      "execution_count": 13,
      "outputs": [
        {
          "output_type": "execute_result",
          "data": {
            "text/html": [
              "<div>\n",
              "<style scoped>\n",
              "    .dataframe tbody tr th:only-of-type {\n",
              "        vertical-align: middle;\n",
              "    }\n",
              "\n",
              "    .dataframe tbody tr th {\n",
              "        vertical-align: top;\n",
              "    }\n",
              "\n",
              "    .dataframe thead th {\n",
              "        text-align: right;\n",
              "    }\n",
              "</style>\n",
              "<table border=\"1\" class=\"dataframe\">\n",
              "  <thead>\n",
              "    <tr style=\"text-align: right;\">\n",
              "      <th></th>\n",
              "      <th>X1</th>\n",
              "      <th>X2</th>\n",
              "      <th>X1 AND X2</th>\n",
              "      <th>(-1,5+X1+X2)</th>\n",
              "      <th>a</th>\n",
              "    </tr>\n",
              "  </thead>\n",
              "  <tbody>\n",
              "    <tr>\n",
              "      <th>0</th>\n",
              "      <td>0</td>\n",
              "      <td>0</td>\n",
              "      <td>0</td>\n",
              "      <td>-1.5</td>\n",
              "      <td>0</td>\n",
              "    </tr>\n",
              "    <tr>\n",
              "      <th>1</th>\n",
              "      <td>0</td>\n",
              "      <td>1</td>\n",
              "      <td>0</td>\n",
              "      <td>-0.5</td>\n",
              "      <td>0</td>\n",
              "    </tr>\n",
              "    <tr>\n",
              "      <th>2</th>\n",
              "      <td>1</td>\n",
              "      <td>0</td>\n",
              "      <td>0</td>\n",
              "      <td>-0.5</td>\n",
              "      <td>0</td>\n",
              "    </tr>\n",
              "    <tr>\n",
              "      <th>3</th>\n",
              "      <td>1</td>\n",
              "      <td>1</td>\n",
              "      <td>1</td>\n",
              "      <td>0.5</td>\n",
              "      <td>1</td>\n",
              "    </tr>\n",
              "  </tbody>\n",
              "</table>\n",
              "</div>"
            ],
            "text/plain": [
              "   X1  X2  X1 AND X2  (-1,5+X1+X2)  a\n",
              "0   0   0          0          -1.5  0\n",
              "1   0   1          0          -0.5  0\n",
              "2   1   0          0          -0.5  0\n",
              "3   1   1          1           0.5  1"
            ]
          },
          "metadata": {
            "tags": []
          },
          "execution_count": 13
        }
      ]
    },
    {
      "cell_type": "code",
      "metadata": {
        "colab": {
          "base_uri": "https://localhost:8080/",
          "height": 166
        },
        "id": "GYRI-pHgZ6NK",
        "outputId": "c3f35d4e-fd08-4ba4-86a5-013fcfb83f86"
      },
      "source": [
        "#OR\r\n",
        "datasetOR = pd.DataFrame(X, columns={\"X1\", \"X2\"})\r\n",
        "\r\n",
        "orValues = []\r\n",
        "function2Values = []\r\n",
        "for i in X:\r\n",
        "    result = i[0] or i[1]\r\n",
        "    orValues.append(result)\r\n",
        "    function_result = -0.5 + i[0] + i[1]\r\n",
        "    function2Values.append(function_result)\r\n",
        "\r\n",
        "datasetOR[\"X1 OR X2\"] = orValues\r\n",
        "datasetOR[\"(-0,5+X1+X2)\"] = function2Values\r\n",
        "datasetOR[\"a\"] = orValues\r\n",
        "datasetOR"
      ],
      "execution_count": 16,
      "outputs": [
        {
          "output_type": "execute_result",
          "data": {
            "text/html": [
              "<div>\n",
              "<style scoped>\n",
              "    .dataframe tbody tr th:only-of-type {\n",
              "        vertical-align: middle;\n",
              "    }\n",
              "\n",
              "    .dataframe tbody tr th {\n",
              "        vertical-align: top;\n",
              "    }\n",
              "\n",
              "    .dataframe thead th {\n",
              "        text-align: right;\n",
              "    }\n",
              "</style>\n",
              "<table border=\"1\" class=\"dataframe\">\n",
              "  <thead>\n",
              "    <tr style=\"text-align: right;\">\n",
              "      <th></th>\n",
              "      <th>X1</th>\n",
              "      <th>X2</th>\n",
              "      <th>X1 OR X2</th>\n",
              "      <th>(-0,5+X1+X2)</th>\n",
              "      <th>a</th>\n",
              "    </tr>\n",
              "  </thead>\n",
              "  <tbody>\n",
              "    <tr>\n",
              "      <th>0</th>\n",
              "      <td>0</td>\n",
              "      <td>0</td>\n",
              "      <td>0</td>\n",
              "      <td>-0.5</td>\n",
              "      <td>0</td>\n",
              "    </tr>\n",
              "    <tr>\n",
              "      <th>1</th>\n",
              "      <td>0</td>\n",
              "      <td>1</td>\n",
              "      <td>1</td>\n",
              "      <td>0.5</td>\n",
              "      <td>1</td>\n",
              "    </tr>\n",
              "    <tr>\n",
              "      <th>2</th>\n",
              "      <td>1</td>\n",
              "      <td>0</td>\n",
              "      <td>1</td>\n",
              "      <td>0.5</td>\n",
              "      <td>1</td>\n",
              "    </tr>\n",
              "    <tr>\n",
              "      <th>3</th>\n",
              "      <td>1</td>\n",
              "      <td>1</td>\n",
              "      <td>1</td>\n",
              "      <td>1.5</td>\n",
              "      <td>1</td>\n",
              "    </tr>\n",
              "  </tbody>\n",
              "</table>\n",
              "</div>"
            ],
            "text/plain": [
              "   X1  X2  X1 OR X2  (-0,5+X1+X2)  a\n",
              "0   0   0         0          -0.5  0\n",
              "1   0   1         1           0.5  1\n",
              "2   1   0         1           0.5  1\n",
              "3   1   1         1           1.5  1"
            ]
          },
          "metadata": {
            "tags": []
          },
          "execution_count": 16
        }
      ]
    },
    {
      "cell_type": "code",
      "metadata": {
        "colab": {
          "base_uri": "https://localhost:8080/",
          "height": 106
        },
        "id": "zkDtATw-aVON",
        "outputId": "1efc0ff1-d1b2-4b03-f879-4f312f90e505"
      },
      "source": [
        "#NOT\r\n",
        "X = np.vstack([0, 1])\r\n",
        "datasetNOT = pd.DataFrame(X, columns={\"X1\"})\r\n",
        "\r\n",
        "notValues = []\r\n",
        "function3Values = []\r\n",
        "for i in X:\r\n",
        "    result = not i\r\n",
        "    notValues.append(int(result))\r\n",
        "    function_result = int(1 - 2*i)\r\n",
        "    function3Values.append(function_result)\r\n",
        "\r\n",
        "datasetNOT[\"NOT X1\"] = notValues\r\n",
        "datasetNOT[\"(1-2*X1)\"] = function3Values\r\n",
        "datasetNOT[\"a\"] = notValues\r\n",
        "datasetNOT"
      ],
      "execution_count": 17,
      "outputs": [
        {
          "output_type": "execute_result",
          "data": {
            "text/html": [
              "<div>\n",
              "<style scoped>\n",
              "    .dataframe tbody tr th:only-of-type {\n",
              "        vertical-align: middle;\n",
              "    }\n",
              "\n",
              "    .dataframe tbody tr th {\n",
              "        vertical-align: top;\n",
              "    }\n",
              "\n",
              "    .dataframe thead th {\n",
              "        text-align: right;\n",
              "    }\n",
              "</style>\n",
              "<table border=\"1\" class=\"dataframe\">\n",
              "  <thead>\n",
              "    <tr style=\"text-align: right;\">\n",
              "      <th></th>\n",
              "      <th>X1</th>\n",
              "      <th>NOT X1</th>\n",
              "      <th>(1-2*X1)</th>\n",
              "      <th>a</th>\n",
              "    </tr>\n",
              "  </thead>\n",
              "  <tbody>\n",
              "    <tr>\n",
              "      <th>0</th>\n",
              "      <td>0</td>\n",
              "      <td>1</td>\n",
              "      <td>1</td>\n",
              "      <td>1</td>\n",
              "    </tr>\n",
              "    <tr>\n",
              "      <th>1</th>\n",
              "      <td>1</td>\n",
              "      <td>0</td>\n",
              "      <td>-1</td>\n",
              "      <td>0</td>\n",
              "    </tr>\n",
              "  </tbody>\n",
              "</table>\n",
              "</div>"
            ],
            "text/plain": [
              "   X1  NOT X1  (1-2*X1)  a\n",
              "0   0       1         1  1\n",
              "1   1       0        -1  0"
            ]
          },
          "metadata": {
            "tags": []
          },
          "execution_count": 17
        }
      ]
    },
    {
      "cell_type": "code",
      "metadata": {
        "colab": {
          "base_uri": "https://localhost:8080/",
          "height": 166
        },
        "id": "DPjFGqxRa9Uc",
        "outputId": "79215d34-a6d6-49b9-bfe8-4c69b7895a57"
      },
      "source": [
        "#XNOR\r\n",
        "X = np.vstack([(0, 0), (0, 1), (1, 0), (1, 1)])\r\n",
        "datasetXNOR = pd.DataFrame(X, columns={\"X1\", \"X2\"})\r\n",
        "\r\n",
        "xnorValues = []\r\n",
        "function5Values = []\r\n",
        "for i in X:\r\n",
        "    result = not(i[0] or i[1])\r\n",
        "    if i[0] and i[1] == 1:\r\n",
        "        result = 1\r\n",
        "        xnorValues.append(int(result))\r\n",
        "    else:\r\n",
        "        xnorValues.append(int(result))\r\n",
        "    function_result = -0.5 + i[0] + i[1]\r\n",
        "    function5Values.append(function_result)\r\n",
        "\r\n",
        "datasetXNOR[\"X1 XNOR X2\"] = xnorValues\r\n",
        "datasetXNOR[\"-0,5+X1+X2\"] = function5Values\r\n",
        "datasetXNOR[\"a\"] = xnorValues\r\n",
        "datasetXNOR"
      ],
      "execution_count": 23,
      "outputs": [
        {
          "output_type": "execute_result",
          "data": {
            "text/html": [
              "<div>\n",
              "<style scoped>\n",
              "    .dataframe tbody tr th:only-of-type {\n",
              "        vertical-align: middle;\n",
              "    }\n",
              "\n",
              "    .dataframe tbody tr th {\n",
              "        vertical-align: top;\n",
              "    }\n",
              "\n",
              "    .dataframe thead th {\n",
              "        text-align: right;\n",
              "    }\n",
              "</style>\n",
              "<table border=\"1\" class=\"dataframe\">\n",
              "  <thead>\n",
              "    <tr style=\"text-align: right;\">\n",
              "      <th></th>\n",
              "      <th>X1</th>\n",
              "      <th>X2</th>\n",
              "      <th>X1 XNOR X2</th>\n",
              "      <th>-0,5+X1+X2</th>\n",
              "      <th>a</th>\n",
              "    </tr>\n",
              "  </thead>\n",
              "  <tbody>\n",
              "    <tr>\n",
              "      <th>0</th>\n",
              "      <td>0</td>\n",
              "      <td>0</td>\n",
              "      <td>1</td>\n",
              "      <td>-0.5</td>\n",
              "      <td>1</td>\n",
              "    </tr>\n",
              "    <tr>\n",
              "      <th>1</th>\n",
              "      <td>0</td>\n",
              "      <td>1</td>\n",
              "      <td>0</td>\n",
              "      <td>0.5</td>\n",
              "      <td>0</td>\n",
              "    </tr>\n",
              "    <tr>\n",
              "      <th>2</th>\n",
              "      <td>1</td>\n",
              "      <td>0</td>\n",
              "      <td>0</td>\n",
              "      <td>0.5</td>\n",
              "      <td>0</td>\n",
              "    </tr>\n",
              "    <tr>\n",
              "      <th>3</th>\n",
              "      <td>1</td>\n",
              "      <td>1</td>\n",
              "      <td>1</td>\n",
              "      <td>1.5</td>\n",
              "      <td>1</td>\n",
              "    </tr>\n",
              "  </tbody>\n",
              "</table>\n",
              "</div>"
            ],
            "text/plain": [
              "   X1  X2  X1 XNOR X2  -0,5+X1+X2  a\n",
              "0   0   0           1        -0.5  1\n",
              "1   0   1           0         0.5  0\n",
              "2   1   0           0         0.5  0\n",
              "3   1   1           1         1.5  1"
            ]
          },
          "metadata": {
            "tags": []
          },
          "execution_count": 23
        }
      ]
    },
    {
      "cell_type": "code",
      "metadata": {
        "colab": {
          "base_uri": "https://localhost:8080/",
          "height": 166
        },
        "id": "LVzUIkH2aa6p",
        "outputId": "68825379-0dde-4bf6-cf70-4fc811bb5d4b"
      },
      "source": [
        "#XOR\r\n",
        "X = np.vstack([(0, 0), (0, 1), (1, 0), (1, 1)])\r\n",
        "datasetXOR = pd.DataFrame(X, columns={\"X1\", \"X2\"})\r\n",
        "\r\n",
        "xorValues = []\r\n",
        "function4Values = []\r\n",
        "for i in X:\r\n",
        "    result = i[0] or i[1]\r\n",
        "    if i[0] and i[1] == 1:\r\n",
        "        result = 0\r\n",
        "        xorValues.append(result)\r\n",
        "    else:\r\n",
        "        xorValues.append(result)\r\n",
        "    function_result = -0.5 + i[0] + i[1]\r\n",
        "    function4Values.append(function_result)\r\n",
        "\r\n",
        "datasetXOR[\"X1 XOR X2\"] = xorValues\r\n",
        "datasetXOR[\"(-0,5+X1+X2)\"] = function4Values\r\n",
        "datasetXOR[\"a\"] = xorValues\r\n",
        "datasetXOR"
      ],
      "execution_count": 26,
      "outputs": [
        {
          "output_type": "execute_result",
          "data": {
            "text/html": [
              "<div>\n",
              "<style scoped>\n",
              "    .dataframe tbody tr th:only-of-type {\n",
              "        vertical-align: middle;\n",
              "    }\n",
              "\n",
              "    .dataframe tbody tr th {\n",
              "        vertical-align: top;\n",
              "    }\n",
              "\n",
              "    .dataframe thead th {\n",
              "        text-align: right;\n",
              "    }\n",
              "</style>\n",
              "<table border=\"1\" class=\"dataframe\">\n",
              "  <thead>\n",
              "    <tr style=\"text-align: right;\">\n",
              "      <th></th>\n",
              "      <th>X1</th>\n",
              "      <th>X2</th>\n",
              "      <th>X1 XOR X2</th>\n",
              "      <th>(-0,5+X1+X2)</th>\n",
              "      <th>a</th>\n",
              "    </tr>\n",
              "  </thead>\n",
              "  <tbody>\n",
              "    <tr>\n",
              "      <th>0</th>\n",
              "      <td>0</td>\n",
              "      <td>0</td>\n",
              "      <td>0</td>\n",
              "      <td>-0.5</td>\n",
              "      <td>0</td>\n",
              "    </tr>\n",
              "    <tr>\n",
              "      <th>1</th>\n",
              "      <td>0</td>\n",
              "      <td>1</td>\n",
              "      <td>1</td>\n",
              "      <td>0.5</td>\n",
              "      <td>1</td>\n",
              "    </tr>\n",
              "    <tr>\n",
              "      <th>2</th>\n",
              "      <td>1</td>\n",
              "      <td>0</td>\n",
              "      <td>1</td>\n",
              "      <td>0.5</td>\n",
              "      <td>1</td>\n",
              "    </tr>\n",
              "    <tr>\n",
              "      <th>3</th>\n",
              "      <td>1</td>\n",
              "      <td>1</td>\n",
              "      <td>0</td>\n",
              "      <td>1.5</td>\n",
              "      <td>0</td>\n",
              "    </tr>\n",
              "  </tbody>\n",
              "</table>\n",
              "</div>"
            ],
            "text/plain": [
              "   X1  X2  X1 XOR X2  (-0,5+X1+X2)  a\n",
              "0   0   0          0          -0.5  0\n",
              "1   0   1          1           0.5  1\n",
              "2   1   0          1           0.5  1\n",
              "3   1   1          0           1.5  0"
            ]
          },
          "metadata": {
            "tags": []
          },
          "execution_count": 26
        }
      ]
    }
  ]
}